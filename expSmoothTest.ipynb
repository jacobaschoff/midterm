{
 "cells": [
  {
   "cell_type": "code",
   "execution_count": 2,
   "metadata": {},
   "outputs": [],
   "source": [
    "import pandas as pd\n",
    "import numpy as np\n",
    "import plotly.express as px\n",
    "from statsmodels .tsa.api import ExponentialSmoothing, SimpleExpSmoothing\n"
   ]
  },
  {
   "cell_type": "code",
   "execution_count": 3,
   "metadata": {},
   "outputs": [
    {
     "ename": "NameError",
     "evalue": "name 'walk' is not defined",
     "output_type": "error",
     "traceback": [
      "\u001b[0;31m---------------------------------------------------------------------------\u001b[0m",
      "\u001b[0;31mNameError\u001b[0m                                 Traceback (most recent call last)",
      "Cell \u001b[0;32mIn[3], line 1\u001b[0m\n\u001b[0;32m----> 1\u001b[0m data \u001b[38;5;241m=\u001b[39m \u001b[43mwalk\u001b[49m(\u001b[38;5;241m10\u001b[39m)\n\u001b[1;32m      2\u001b[0m data\n",
      "\u001b[0;31mNameError\u001b[0m: name 'walk' is not defined"
     ]
    }
   ],
   "source": [
    "def step(prev=0):\n",
    "    return prev + np.random.normal(loc=0.05, scale=1.0)\n",
    "\n",
    "def walk(steps=10):\n",
    "    data = []\n",
    "    for i in range(10):\n",
    "        if i==0:\n",
    "            data.append(step())\n",
    "        else:\n",
    "            data.append(step(data[i-1]))\n",
    "    return data"
   ]
  },
  {
   "cell_type": "code",
   "execution_count": null,
   "metadata": {},
   "outputs": [],
   "source": []
  }
 ],
 "metadata": {
  "kernelspec": {
   "display_name": "Python 3",
   "language": "python",
   "name": "python3"
  },
  "language_info": {
   "codemirror_mode": {
    "name": "ipython",
    "version": 3
   },
   "file_extension": ".py",
   "mimetype": "text/x-python",
   "name": "python",
   "nbconvert_exporter": "python",
   "pygments_lexer": "ipython3",
   "version": "3.11.5"
  }
 },
 "nbformat": 4,
 "nbformat_minor": 2
}
