{
 "cells": [
  {
   "cell_type": "code",
   "execution_count": 2,
   "metadata": {},
   "outputs": [],
   "source": [
    "import pandas as pd\n",
    "import numpy as np\n",
    "import plotly.express as px\n",
    "from statsmodels .tsa.api import ExponentialSmoothing, SimpleExpSmoothing\n",
    "import time\n"
   ]
  },
  {
   "cell_type": "code",
   "execution_count": 46,
   "metadata": {},
   "outputs": [
    {
     "data": {
      "text/html": [
       "<div>\n",
       "<style scoped>\n",
       "    .dataframe tbody tr th:only-of-type {\n",
       "        vertical-align: middle;\n",
       "    }\n",
       "\n",
       "    .dataframe tbody tr th {\n",
       "        vertical-align: top;\n",
       "    }\n",
       "\n",
       "    .dataframe thead th {\n",
       "        text-align: right;\n",
       "    }\n",
       "</style>\n",
       "<table border=\"1\" class=\"dataframe\">\n",
       "  <thead>\n",
       "    <tr style=\"text-align: right;\">\n",
       "      <th></th>\n",
       "      <th>FY</th>\n",
       "      <th>Month (abbv)</th>\n",
       "      <th>Component</th>\n",
       "      <th>Region</th>\n",
       "      <th>Land Filter</th>\n",
       "      <th>Area of Responsibility</th>\n",
       "      <th>Drug Type</th>\n",
       "      <th>Count of Event</th>\n",
       "      <th>Sum Qty (lbs)</th>\n",
       "      <th>Branch</th>\n",
       "    </tr>\n",
       "  </thead>\n",
       "  <tbody>\n",
       "    <tr>\n",
       "      <th>0</th>\n",
       "      <td>2019</td>\n",
       "      <td>APR</td>\n",
       "      <td>Office of Field Operations</td>\n",
       "      <td>Coastal/Interior</td>\n",
       "      <td>Other</td>\n",
       "      <td>ATLANTA FIELD OFFICE</td>\n",
       "      <td>Ecstasy</td>\n",
       "      <td>3</td>\n",
       "      <td>8.379947</td>\n",
       "      <td>NaN</td>\n",
       "    </tr>\n",
       "    <tr>\n",
       "      <th>1</th>\n",
       "      <td>2019</td>\n",
       "      <td>APR</td>\n",
       "      <td>Office of Field Operations</td>\n",
       "      <td>Coastal/Interior</td>\n",
       "      <td>Other</td>\n",
       "      <td>ATLANTA FIELD OFFICE</td>\n",
       "      <td>Khat (Catha Edulis)</td>\n",
       "      <td>4</td>\n",
       "      <td>1394.423807</td>\n",
       "      <td>NaN</td>\n",
       "    </tr>\n",
       "    <tr>\n",
       "      <th>2</th>\n",
       "      <td>2019</td>\n",
       "      <td>APR</td>\n",
       "      <td>Office of Field Operations</td>\n",
       "      <td>Coastal/Interior</td>\n",
       "      <td>Other</td>\n",
       "      <td>ATLANTA FIELD OFFICE</td>\n",
       "      <td>Marijuana</td>\n",
       "      <td>5</td>\n",
       "      <td>0.089397</td>\n",
       "      <td>NaN</td>\n",
       "    </tr>\n",
       "    <tr>\n",
       "      <th>3</th>\n",
       "      <td>2019</td>\n",
       "      <td>APR</td>\n",
       "      <td>Office of Field Operations</td>\n",
       "      <td>Coastal/Interior</td>\n",
       "      <td>Other</td>\n",
       "      <td>ATLANTA FIELD OFFICE</td>\n",
       "      <td>Other Drugs**</td>\n",
       "      <td>8</td>\n",
       "      <td>42.663196</td>\n",
       "      <td>NaN</td>\n",
       "    </tr>\n",
       "    <tr>\n",
       "      <th>4</th>\n",
       "      <td>2019</td>\n",
       "      <td>APR</td>\n",
       "      <td>Office of Field Operations</td>\n",
       "      <td>Coastal/Interior</td>\n",
       "      <td>Other</td>\n",
       "      <td>BALTIMORE FIELD OFFICE</td>\n",
       "      <td>Cocaine</td>\n",
       "      <td>3</td>\n",
       "      <td>8.542913</td>\n",
       "      <td>NaN</td>\n",
       "    </tr>\n",
       "    <tr>\n",
       "      <th>...</th>\n",
       "      <td>...</td>\n",
       "      <td>...</td>\n",
       "      <td>...</td>\n",
       "      <td>...</td>\n",
       "      <td>...</td>\n",
       "      <td>...</td>\n",
       "      <td>...</td>\n",
       "      <td>...</td>\n",
       "      <td>...</td>\n",
       "      <td>...</td>\n",
       "    </tr>\n",
       "    <tr>\n",
       "      <th>1757</th>\n",
       "      <td>2023</td>\n",
       "      <td>SEP</td>\n",
       "      <td>Air and Marine Operations</td>\n",
       "      <td>Southwest Border</td>\n",
       "      <td>Land</td>\n",
       "      <td>NaN</td>\n",
       "      <td>Cocaine</td>\n",
       "      <td>1</td>\n",
       "      <td>0.130000</td>\n",
       "      <td>NASOC - San Angelo</td>\n",
       "    </tr>\n",
       "    <tr>\n",
       "      <th>1758</th>\n",
       "      <td>2023</td>\n",
       "      <td>SEP</td>\n",
       "      <td>Air and Marine Operations</td>\n",
       "      <td>Southwest Border</td>\n",
       "      <td>Land</td>\n",
       "      <td>NaN</td>\n",
       "      <td>Cocaine</td>\n",
       "      <td>1</td>\n",
       "      <td>14.370000</td>\n",
       "      <td>Tucson Air Branch</td>\n",
       "    </tr>\n",
       "    <tr>\n",
       "      <th>1759</th>\n",
       "      <td>2023</td>\n",
       "      <td>SEP</td>\n",
       "      <td>Air and Marine Operations</td>\n",
       "      <td>Southwest Border</td>\n",
       "      <td>Land</td>\n",
       "      <td>NaN</td>\n",
       "      <td>Fentanyl</td>\n",
       "      <td>1</td>\n",
       "      <td>2.450000</td>\n",
       "      <td>Tucson Air Branch</td>\n",
       "    </tr>\n",
       "    <tr>\n",
       "      <th>1760</th>\n",
       "      <td>2023</td>\n",
       "      <td>SEP</td>\n",
       "      <td>Air and Marine Operations</td>\n",
       "      <td>Southwest Border</td>\n",
       "      <td>Land</td>\n",
       "      <td>NaN</td>\n",
       "      <td>Methamphetamine</td>\n",
       "      <td>1</td>\n",
       "      <td>5.730000</td>\n",
       "      <td>Tucson Air Branch</td>\n",
       "    </tr>\n",
       "    <tr>\n",
       "      <th>1761</th>\n",
       "      <td>2023</td>\n",
       "      <td>SEP</td>\n",
       "      <td>Air and Marine Operations</td>\n",
       "      <td>Southwest Border</td>\n",
       "      <td>Other</td>\n",
       "      <td>NaN</td>\n",
       "      <td>Fentanyl</td>\n",
       "      <td>2</td>\n",
       "      <td>0.330000</td>\n",
       "      <td>San Diego Air And Marine Branch</td>\n",
       "    </tr>\n",
       "  </tbody>\n",
       "</table>\n",
       "<p>14662 rows × 10 columns</p>\n",
       "</div>"
      ],
      "text/plain": [
       "        FY Month (abbv)                   Component            Region  \\\n",
       "0     2019          APR  Office of Field Operations  Coastal/Interior   \n",
       "1     2019          APR  Office of Field Operations  Coastal/Interior   \n",
       "2     2019          APR  Office of Field Operations  Coastal/Interior   \n",
       "3     2019          APR  Office of Field Operations  Coastal/Interior   \n",
       "4     2019          APR  Office of Field Operations  Coastal/Interior   \n",
       "...    ...          ...                         ...               ...   \n",
       "1757  2023          SEP   Air and Marine Operations  Southwest Border   \n",
       "1758  2023          SEP   Air and Marine Operations  Southwest Border   \n",
       "1759  2023          SEP   Air and Marine Operations  Southwest Border   \n",
       "1760  2023          SEP   Air and Marine Operations  Southwest Border   \n",
       "1761  2023          SEP   Air and Marine Operations  Southwest Border   \n",
       "\n",
       "     Land Filter  Area of Responsibility            Drug Type  Count of Event  \\\n",
       "0          Other    ATLANTA FIELD OFFICE              Ecstasy               3   \n",
       "1          Other    ATLANTA FIELD OFFICE  Khat (Catha Edulis)               4   \n",
       "2          Other    ATLANTA FIELD OFFICE            Marijuana               5   \n",
       "3          Other    ATLANTA FIELD OFFICE        Other Drugs**               8   \n",
       "4          Other  BALTIMORE FIELD OFFICE              Cocaine               3   \n",
       "...          ...                     ...                  ...             ...   \n",
       "1757        Land                     NaN              Cocaine               1   \n",
       "1758        Land                     NaN              Cocaine               1   \n",
       "1759        Land                     NaN             Fentanyl               1   \n",
       "1760        Land                     NaN      Methamphetamine               1   \n",
       "1761       Other                     NaN             Fentanyl               2   \n",
       "\n",
       "      Sum Qty (lbs)                           Branch  \n",
       "0          8.379947                              NaN  \n",
       "1       1394.423807                              NaN  \n",
       "2          0.089397                              NaN  \n",
       "3         42.663196                              NaN  \n",
       "4          8.542913                              NaN  \n",
       "...             ...                              ...  \n",
       "1757       0.130000               NASOC - San Angelo  \n",
       "1758      14.370000                Tucson Air Branch  \n",
       "1759       2.450000                Tucson Air Branch  \n",
       "1760       5.730000                Tucson Air Branch  \n",
       "1761       0.330000  San Diego Air And Marine Branch  \n",
       "\n",
       "[14662 rows x 10 columns]"
      ]
     },
     "execution_count": 46,
     "metadata": {},
     "output_type": "execute_result"
    }
   ],
   "source": [
    "# Reading in and cleaning data\n",
    "\n",
    "# Office of Field Operations data 2019 - 2023\n",
    "OFOTwentyThree = pd.read_csv(\"https://raw.githubusercontent.com/jacobaschoff/midterm/main/nationwide-drugs-fy20-fy23%20(3).csv\")\n",
    "nineteen = pd.read_csv(\"https://raw.githubusercontent.com/jacobaschoff/midterm/main/nationwide-drugs-fy19-fy22.csv\")\n",
    "OFOTwnetyNineteen = nineteen[nineteen['FY']==2019]\n",
    "\n",
    "# Air and Marine Operations data 2019 - 2023\n",
    "AMOTwentyThree = pd.read_csv(\"https://raw.githubusercontent.com/jacobaschoff/midterm/main/amo-drug-seizures-fy20-fy23.csv\")\n",
    "AMOnineteen = pd.read_csv(\"https://raw.githubusercontent.com/jacobaschoff/midterm/main/amo-drug-seizures-fy19-fy22.csv\")\n",
    "AMOTwentyNineteen = AMOnineteen[AMOnineteen['FY']==2019]\n",
    "\n",
    "# Combining data and transferring to \n",
    "\n",
    "fentanyl = pd.concat([OFOTwnetyNineteen, AMOTwentyNineteen, OFOTwentyThree, AMOTwentyThree])\n",
    "\n",
    "# Identifying cities for mapping the data\n",
    "\n",
    "#city_pattern = r'(.+)(?: FIELD OFFICE| SECTOR)'\n",
    "#data['City'] = data['Area of Responsibility'].str.extract(city_pattern)\n",
    "\n",
    "# Matching cities with states\n",
    "\n",
    "#citiesandstates = pd.read_csv('/Users/jacobaschoff/Library/CloudStorage/OneDrive-Personal/School/UNO/Graduate/ECON8310 - Business Forecasting/Midterm/uscities.csv')\n",
    "#citiesandstates = citiesandstates.rename(columns={'city_ascii' : 'City'})\n",
    "#citiesandstates = citiesandstates.rename(columns={'state_name' : 'State'})\n",
    "#citiesandstates['City'] = citiesandstates['City'].str.upper()\n",
    "\n",
    "#data = pd.merge(data, citiesandstates[['City', 'State']], on='City', how='left')\n",
    "fentanyl"
   ]
  },
  {
   "cell_type": "code",
   "execution_count": 47,
   "metadata": {},
   "outputs": [
    {
     "data": {
      "text/plain": [
       "array([ 260.94307596,  305.85652976,   79.86904457,  220.04471561,\n",
       "        418.78698495,  156.35166298,  308.95913475,  268.07802907,\n",
       "        413.78648878,  157.72099211,  396.24964238,  205.96112372,\n",
       "        307.81652857,  770.63452958,  117.36138502,  292.36387526,\n",
       "        162.84313213,  799.56938297,  752.30386617,  281.96797427,\n",
       "        288.88917126,  320.70245378,  469.2872373 ,  785.64097932,\n",
       "        893.59129227, 1232.61862553, 1268.26591191,  845.42269497,\n",
       "        945.5464045 ,  907.52432213, 1064.27990564,  867.4719948 ,\n",
       "       1085.13554073,  834.99334467, 1263.01090055,  779.28320372,\n",
       "       1457.71995887, 2342.16153129,  564.46748828,  752.66856338,\n",
       "       1141.16781257, 2246.35970301,  745.78642431, 1283.23900431,\n",
       "       1111.91267587, 1269.80914059, 1092.29048255, 2017.75604939,\n",
       "       3340.89629336, 1849.33659574, 2502.86746946, 2325.8372181 ,\n",
       "       1672.2224285 , 1865.98080512, 2397.91802264, 2958.67642638,\n",
       "       2804.92557554, 3221.20395508, 2065.24808271, 1470.85804307])"
      ]
     },
     "execution_count": 47,
     "metadata": {},
     "output_type": "execute_result"
    }
   ],
   "source": [
    "fentanyl_df = fentanyl[fentanyl['Drug Type'] == 'Fentanyl']\n",
    "\n",
    "# Group by year and sum quantity\n",
    "monthly_totals = fentanyl_df.groupby(['FY', 'Month (abbv)'])['Sum Qty (lbs)'].sum()\n",
    "\n",
    "#data = monthly_totals['Sum Qty (lbs)']\n",
    "# Create line plot using Plotly Express\n",
    "#fig = px.line(fentanyl_yearly_totals, x='FY', y='Sum Qty (lbs)', title='Total Fentanyl Seizures Over the Years')\n",
    "data = monthly_totals.values\n",
    "data\n"
   ]
  },
  {
   "cell_type": "code",
   "execution_count": 48,
   "metadata": {},
   "outputs": [
    {
     "name": "stdout",
     "output_type": "stream",
     "text": [
      "[2227.08093009] [1989.82870633] [1632.6758148]\n"
     ]
    }
   ],
   "source": [
    "alpha020 = SimpleExpSmoothing(data).fit(\n",
    "                                        smoothing_level=0.2,\n",
    "                                        optimized=False)\n",
    "\n",
    "alpha050 = SimpleExpSmoothing(data).fit(\n",
    "                                        smoothing_level=0.5,\n",
    "                                        optimized=False)\n",
    "\n",
    "alpha080 = SimpleExpSmoothing(data).fit(\n",
    "                                        smoothing_level=0.8,\n",
    "                                        optimized=False)\n",
    "\n",
    "level2 = alpha020.forecast(1)\n",
    "level5 = alpha050.forecast(1)\n",
    "level8 = alpha080.forecast(1)\n",
    "\n",
    "print(level2, level5, level8)"
   ]
  },
  {
   "cell_type": "code",
   "execution_count": 49,
   "metadata": {},
   "outputs": [
    {
     "name": "stderr",
     "output_type": "stream",
     "text": [
      "/var/folders/9g/yqwm3f7s7m9dpll0wmghzmkw0000gn/T/ipykernel_35926/3744770584.py:2: DeprecationWarning:\n",
      "\n",
      "Conversion of an array with ndim > 0 to a scalar is deprecated, and will error in future. Ensure you extract a single element from your array before performing this operation. (Deprecated NumPy 1.25.)\n",
      "\n",
      "/var/folders/9g/yqwm3f7s7m9dpll0wmghzmkw0000gn/T/ipykernel_35926/3744770584.py:3: DeprecationWarning:\n",
      "\n",
      "Conversion of an array with ndim > 0 to a scalar is deprecated, and will error in future. Ensure you extract a single element from your array before performing this operation. (Deprecated NumPy 1.25.)\n",
      "\n",
      "/var/folders/9g/yqwm3f7s7m9dpll0wmghzmkw0000gn/T/ipykernel_35926/3744770584.py:4: DeprecationWarning:\n",
      "\n",
      "Conversion of an array with ndim > 0 to a scalar is deprecated, and will error in future. Ensure you extract a single element from your array before performing this operation. (Deprecated NumPy 1.25.)\n",
      "\n"
     ]
    },
    {
     "data": {
      "application/vnd.plotly.v1+json": {
       "config": {
        "plotlyServerURL": "https://plot.ly"
       },
       "data": [
        {
         "hovertemplate": "variable=fentanyl_seizures<br>index=%{x}<br>value=%{y}<extra></extra>",
         "legendgroup": "fentanyl_seizures",
         "line": {
          "color": "#636efa",
          "dash": "solid"
         },
         "marker": {
          "symbol": "circle"
         },
         "mode": "lines",
         "name": "fentanyl_seizures",
         "orientation": "v",
         "showlegend": true,
         "type": "scatter",
         "x": [
          0,
          1,
          2,
          3,
          4,
          5,
          6,
          7,
          8,
          9,
          10,
          11,
          12,
          13,
          14,
          15,
          16,
          17,
          18,
          19,
          20,
          21,
          22,
          23,
          24,
          25,
          26,
          27,
          28,
          29,
          30,
          31,
          32,
          33,
          34,
          35,
          36,
          37,
          38,
          39,
          40,
          41,
          42,
          43,
          44,
          45,
          46,
          47,
          48,
          49,
          50,
          51,
          52,
          53,
          54,
          55,
          56,
          57,
          58,
          59,
          60
         ],
         "xaxis": "x",
         "y": [
          260.9430759551342,
          305.8565297594489,
          79.869044570994,
          220.0447156107352,
          418.78698494605356,
          156.3516629779736,
          308.959134753672,
          268.078029069031,
          413.7864887785861,
          157.7209921138192,
          396.249642375928,
          205.96112372366983,
          307.8165285699486,
          770.6345295784926,
          117.36138501676359,
          292.36387526196563,
          162.8431321271892,
          799.5693829696163,
          752.303866168023,
          281.9679742743118,
          288.8891712593374,
          320.70245377760915,
          469.2872372950842,
          785.640979317412,
          893.5912922729631,
          1232.618625526779,
          1268.2659119149923,
          845.4226949721668,
          945.5464044962648,
          907.5243221258916,
          1064.279905638225,
          867.4719947984188,
          1085.1355407338365,
          834.9933446704251,
          1263.0109005484608,
          779.2832037209332,
          1457.7199588652556,
          2342.161531285645,
          564.4674882768037,
          752.6685633786221,
          1141.1678125677886,
          2246.359703010678,
          745.7864243104416,
          1283.239004313591,
          1111.912675865874,
          1269.8091405884804,
          1092.2904825528335,
          2017.7560493905514,
          3340.896293358731,
          1849.336595743091,
          2502.8674694614847,
          2325.8372181011064,
          1672.2224285035136,
          1865.9808051155571,
          2397.9180226420494,
          2958.6764263839036,
          2804.925575540499,
          3221.2039550807535,
          2065.2480827060554,
          1470.8580430674092,
          null
         ],
         "yaxis": "y"
        },
        {
         "hovertemplate": "variable=alpha020<br>index=%{x}<br>value=%{y}<extra></extra>",
         "legendgroup": "alpha020",
         "line": {
          "color": "#EF553B",
          "dash": "solid"
         },
         "marker": {
          "symbol": "circle"
         },
         "mode": "lines",
         "name": "alpha020",
         "orientation": "v",
         "showlegend": true,
         "type": "scatter",
         "x": [
          0,
          1,
          2,
          3,
          4,
          5,
          6,
          7,
          8,
          9,
          10,
          11,
          12,
          13,
          14,
          15,
          16,
          17,
          18,
          19,
          20,
          21,
          22,
          23,
          24,
          25,
          26,
          27,
          28,
          29,
          30,
          31,
          32,
          33,
          34,
          35,
          36,
          37,
          38,
          39,
          40,
          41,
          42,
          43,
          44,
          45,
          46,
          47,
          48,
          49,
          50,
          51,
          52,
          53,
          54,
          55,
          56,
          57,
          58,
          59,
          60
         ],
         "xaxis": "x",
         "y": [
          2227.080930088949,
          2227.080930088949,
          2227.080930088949,
          2227.080930088949,
          2227.080930088949,
          2227.080930088949,
          2227.080930088949,
          2227.080930088949,
          2227.080930088949,
          2227.080930088949,
          2227.080930088949,
          2227.080930088949,
          2227.080930088949,
          2227.080930088949,
          2227.080930088949,
          2227.080930088949,
          2227.080930088949,
          2227.080930088949,
          2227.080930088949,
          2227.080930088949,
          2227.080930088949,
          2227.080930088949,
          2227.080930088949,
          2227.080930088949,
          2227.080930088949,
          2227.080930088949,
          2227.080930088949,
          2227.080930088949,
          2227.080930088949,
          2227.080930088949,
          2227.080930088949,
          2227.080930088949,
          2227.080930088949,
          2227.080930088949,
          2227.080930088949,
          2227.080930088949,
          2227.080930088949,
          2227.080930088949,
          2227.080930088949,
          2227.080930088949,
          2227.080930088949,
          2227.080930088949,
          2227.080930088949,
          2227.080930088949,
          2227.080930088949,
          2227.080930088949,
          2227.080930088949,
          2227.080930088949,
          2227.080930088949,
          2227.080930088949,
          2227.080930088949,
          2227.080930088949,
          2227.080930088949,
          2227.080930088949,
          2227.080930088949,
          2227.080930088949,
          2227.080930088949,
          2227.080930088949,
          2227.080930088949,
          2227.080930088949,
          2227.080930088949
         ],
         "yaxis": "y"
        },
        {
         "hovertemplate": "variable=alpha050<br>index=%{x}<br>value=%{y}<extra></extra>",
         "legendgroup": "alpha050",
         "line": {
          "color": "#00cc96",
          "dash": "solid"
         },
         "marker": {
          "symbol": "circle"
         },
         "mode": "lines",
         "name": "alpha050",
         "orientation": "v",
         "showlegend": true,
         "type": "scatter",
         "x": [
          0,
          1,
          2,
          3,
          4,
          5,
          6,
          7,
          8,
          9,
          10,
          11,
          12,
          13,
          14,
          15,
          16,
          17,
          18,
          19,
          20,
          21,
          22,
          23,
          24,
          25,
          26,
          27,
          28,
          29,
          30,
          31,
          32,
          33,
          34,
          35,
          36,
          37,
          38,
          39,
          40,
          41,
          42,
          43,
          44,
          45,
          46,
          47,
          48,
          49,
          50,
          51,
          52,
          53,
          54,
          55,
          56,
          57,
          58,
          59,
          60
         ],
         "xaxis": "x",
         "y": [
          1989.828706333822,
          1989.828706333822,
          1989.828706333822,
          1989.828706333822,
          1989.828706333822,
          1989.828706333822,
          1989.828706333822,
          1989.828706333822,
          1989.828706333822,
          1989.828706333822,
          1989.828706333822,
          1989.828706333822,
          1989.828706333822,
          1989.828706333822,
          1989.828706333822,
          1989.828706333822,
          1989.828706333822,
          1989.828706333822,
          1989.828706333822,
          1989.828706333822,
          1989.828706333822,
          1989.828706333822,
          1989.828706333822,
          1989.828706333822,
          1989.828706333822,
          1989.828706333822,
          1989.828706333822,
          1989.828706333822,
          1989.828706333822,
          1989.828706333822,
          1989.828706333822,
          1989.828706333822,
          1989.828706333822,
          1989.828706333822,
          1989.828706333822,
          1989.828706333822,
          1989.828706333822,
          1989.828706333822,
          1989.828706333822,
          1989.828706333822,
          1989.828706333822,
          1989.828706333822,
          1989.828706333822,
          1989.828706333822,
          1989.828706333822,
          1989.828706333822,
          1989.828706333822,
          1989.828706333822,
          1989.828706333822,
          1989.828706333822,
          1989.828706333822,
          1989.828706333822,
          1989.828706333822,
          1989.828706333822,
          1989.828706333822,
          1989.828706333822,
          1989.828706333822,
          1989.828706333822,
          1989.828706333822,
          1989.828706333822,
          1989.828706333822
         ],
         "yaxis": "y"
        },
        {
         "hovertemplate": "variable=alpha080<br>index=%{x}<br>value=%{y}<extra></extra>",
         "legendgroup": "alpha080",
         "line": {
          "color": "#ab63fa",
          "dash": "solid"
         },
         "marker": {
          "symbol": "circle"
         },
         "mode": "lines",
         "name": "alpha080",
         "orientation": "v",
         "showlegend": true,
         "type": "scatter",
         "x": [
          0,
          1,
          2,
          3,
          4,
          5,
          6,
          7,
          8,
          9,
          10,
          11,
          12,
          13,
          14,
          15,
          16,
          17,
          18,
          19,
          20,
          21,
          22,
          23,
          24,
          25,
          26,
          27,
          28,
          29,
          30,
          31,
          32,
          33,
          34,
          35,
          36,
          37,
          38,
          39,
          40,
          41,
          42,
          43,
          44,
          45,
          46,
          47,
          48,
          49,
          50,
          51,
          52,
          53,
          54,
          55,
          56,
          57,
          58,
          59,
          60
         ],
         "xaxis": "x",
         "y": [
          1632.675814802682,
          1632.675814802682,
          1632.675814802682,
          1632.675814802682,
          1632.675814802682,
          1632.675814802682,
          1632.675814802682,
          1632.675814802682,
          1632.675814802682,
          1632.675814802682,
          1632.675814802682,
          1632.675814802682,
          1632.675814802682,
          1632.675814802682,
          1632.675814802682,
          1632.675814802682,
          1632.675814802682,
          1632.675814802682,
          1632.675814802682,
          1632.675814802682,
          1632.675814802682,
          1632.675814802682,
          1632.675814802682,
          1632.675814802682,
          1632.675814802682,
          1632.675814802682,
          1632.675814802682,
          1632.675814802682,
          1632.675814802682,
          1632.675814802682,
          1632.675814802682,
          1632.675814802682,
          1632.675814802682,
          1632.675814802682,
          1632.675814802682,
          1632.675814802682,
          1632.675814802682,
          1632.675814802682,
          1632.675814802682,
          1632.675814802682,
          1632.675814802682,
          1632.675814802682,
          1632.675814802682,
          1632.675814802682,
          1632.675814802682,
          1632.675814802682,
          1632.675814802682,
          1632.675814802682,
          1632.675814802682,
          1632.675814802682,
          1632.675814802682,
          1632.675814802682,
          1632.675814802682,
          1632.675814802682,
          1632.675814802682,
          1632.675814802682,
          1632.675814802682,
          1632.675814802682,
          1632.675814802682,
          1632.675814802682,
          1632.675814802682
         ],
         "yaxis": "y"
        }
       ],
       "layout": {
        "legend": {
         "title": {
          "text": "variable"
         },
         "tracegroupgap": 0
        },
        "margin": {
         "t": 60
        },
        "template": {
         "data": {
          "bar": [
           {
            "error_x": {
             "color": "#2a3f5f"
            },
            "error_y": {
             "color": "#2a3f5f"
            },
            "marker": {
             "line": {
              "color": "#E5ECF6",
              "width": 0.5
             },
             "pattern": {
              "fillmode": "overlay",
              "size": 10,
              "solidity": 0.2
             }
            },
            "type": "bar"
           }
          ],
          "barpolar": [
           {
            "marker": {
             "line": {
              "color": "#E5ECF6",
              "width": 0.5
             },
             "pattern": {
              "fillmode": "overlay",
              "size": 10,
              "solidity": 0.2
             }
            },
            "type": "barpolar"
           }
          ],
          "carpet": [
           {
            "aaxis": {
             "endlinecolor": "#2a3f5f",
             "gridcolor": "white",
             "linecolor": "white",
             "minorgridcolor": "white",
             "startlinecolor": "#2a3f5f"
            },
            "baxis": {
             "endlinecolor": "#2a3f5f",
             "gridcolor": "white",
             "linecolor": "white",
             "minorgridcolor": "white",
             "startlinecolor": "#2a3f5f"
            },
            "type": "carpet"
           }
          ],
          "choropleth": [
           {
            "colorbar": {
             "outlinewidth": 0,
             "ticks": ""
            },
            "type": "choropleth"
           }
          ],
          "contour": [
           {
            "colorbar": {
             "outlinewidth": 0,
             "ticks": ""
            },
            "colorscale": [
             [
              0,
              "#0d0887"
             ],
             [
              0.1111111111111111,
              "#46039f"
             ],
             [
              0.2222222222222222,
              "#7201a8"
             ],
             [
              0.3333333333333333,
              "#9c179e"
             ],
             [
              0.4444444444444444,
              "#bd3786"
             ],
             [
              0.5555555555555556,
              "#d8576b"
             ],
             [
              0.6666666666666666,
              "#ed7953"
             ],
             [
              0.7777777777777778,
              "#fb9f3a"
             ],
             [
              0.8888888888888888,
              "#fdca26"
             ],
             [
              1,
              "#f0f921"
             ]
            ],
            "type": "contour"
           }
          ],
          "contourcarpet": [
           {
            "colorbar": {
             "outlinewidth": 0,
             "ticks": ""
            },
            "type": "contourcarpet"
           }
          ],
          "heatmap": [
           {
            "colorbar": {
             "outlinewidth": 0,
             "ticks": ""
            },
            "colorscale": [
             [
              0,
              "#0d0887"
             ],
             [
              0.1111111111111111,
              "#46039f"
             ],
             [
              0.2222222222222222,
              "#7201a8"
             ],
             [
              0.3333333333333333,
              "#9c179e"
             ],
             [
              0.4444444444444444,
              "#bd3786"
             ],
             [
              0.5555555555555556,
              "#d8576b"
             ],
             [
              0.6666666666666666,
              "#ed7953"
             ],
             [
              0.7777777777777778,
              "#fb9f3a"
             ],
             [
              0.8888888888888888,
              "#fdca26"
             ],
             [
              1,
              "#f0f921"
             ]
            ],
            "type": "heatmap"
           }
          ],
          "heatmapgl": [
           {
            "colorbar": {
             "outlinewidth": 0,
             "ticks": ""
            },
            "colorscale": [
             [
              0,
              "#0d0887"
             ],
             [
              0.1111111111111111,
              "#46039f"
             ],
             [
              0.2222222222222222,
              "#7201a8"
             ],
             [
              0.3333333333333333,
              "#9c179e"
             ],
             [
              0.4444444444444444,
              "#bd3786"
             ],
             [
              0.5555555555555556,
              "#d8576b"
             ],
             [
              0.6666666666666666,
              "#ed7953"
             ],
             [
              0.7777777777777778,
              "#fb9f3a"
             ],
             [
              0.8888888888888888,
              "#fdca26"
             ],
             [
              1,
              "#f0f921"
             ]
            ],
            "type": "heatmapgl"
           }
          ],
          "histogram": [
           {
            "marker": {
             "pattern": {
              "fillmode": "overlay",
              "size": 10,
              "solidity": 0.2
             }
            },
            "type": "histogram"
           }
          ],
          "histogram2d": [
           {
            "colorbar": {
             "outlinewidth": 0,
             "ticks": ""
            },
            "colorscale": [
             [
              0,
              "#0d0887"
             ],
             [
              0.1111111111111111,
              "#46039f"
             ],
             [
              0.2222222222222222,
              "#7201a8"
             ],
             [
              0.3333333333333333,
              "#9c179e"
             ],
             [
              0.4444444444444444,
              "#bd3786"
             ],
             [
              0.5555555555555556,
              "#d8576b"
             ],
             [
              0.6666666666666666,
              "#ed7953"
             ],
             [
              0.7777777777777778,
              "#fb9f3a"
             ],
             [
              0.8888888888888888,
              "#fdca26"
             ],
             [
              1,
              "#f0f921"
             ]
            ],
            "type": "histogram2d"
           }
          ],
          "histogram2dcontour": [
           {
            "colorbar": {
             "outlinewidth": 0,
             "ticks": ""
            },
            "colorscale": [
             [
              0,
              "#0d0887"
             ],
             [
              0.1111111111111111,
              "#46039f"
             ],
             [
              0.2222222222222222,
              "#7201a8"
             ],
             [
              0.3333333333333333,
              "#9c179e"
             ],
             [
              0.4444444444444444,
              "#bd3786"
             ],
             [
              0.5555555555555556,
              "#d8576b"
             ],
             [
              0.6666666666666666,
              "#ed7953"
             ],
             [
              0.7777777777777778,
              "#fb9f3a"
             ],
             [
              0.8888888888888888,
              "#fdca26"
             ],
             [
              1,
              "#f0f921"
             ]
            ],
            "type": "histogram2dcontour"
           }
          ],
          "mesh3d": [
           {
            "colorbar": {
             "outlinewidth": 0,
             "ticks": ""
            },
            "type": "mesh3d"
           }
          ],
          "parcoords": [
           {
            "line": {
             "colorbar": {
              "outlinewidth": 0,
              "ticks": ""
             }
            },
            "type": "parcoords"
           }
          ],
          "pie": [
           {
            "automargin": true,
            "type": "pie"
           }
          ],
          "scatter": [
           {
            "fillpattern": {
             "fillmode": "overlay",
             "size": 10,
             "solidity": 0.2
            },
            "type": "scatter"
           }
          ],
          "scatter3d": [
           {
            "line": {
             "colorbar": {
              "outlinewidth": 0,
              "ticks": ""
             }
            },
            "marker": {
             "colorbar": {
              "outlinewidth": 0,
              "ticks": ""
             }
            },
            "type": "scatter3d"
           }
          ],
          "scattercarpet": [
           {
            "marker": {
             "colorbar": {
              "outlinewidth": 0,
              "ticks": ""
             }
            },
            "type": "scattercarpet"
           }
          ],
          "scattergeo": [
           {
            "marker": {
             "colorbar": {
              "outlinewidth": 0,
              "ticks": ""
             }
            },
            "type": "scattergeo"
           }
          ],
          "scattergl": [
           {
            "marker": {
             "colorbar": {
              "outlinewidth": 0,
              "ticks": ""
             }
            },
            "type": "scattergl"
           }
          ],
          "scattermapbox": [
           {
            "marker": {
             "colorbar": {
              "outlinewidth": 0,
              "ticks": ""
             }
            },
            "type": "scattermapbox"
           }
          ],
          "scatterpolar": [
           {
            "marker": {
             "colorbar": {
              "outlinewidth": 0,
              "ticks": ""
             }
            },
            "type": "scatterpolar"
           }
          ],
          "scatterpolargl": [
           {
            "marker": {
             "colorbar": {
              "outlinewidth": 0,
              "ticks": ""
             }
            },
            "type": "scatterpolargl"
           }
          ],
          "scatterternary": [
           {
            "marker": {
             "colorbar": {
              "outlinewidth": 0,
              "ticks": ""
             }
            },
            "type": "scatterternary"
           }
          ],
          "surface": [
           {
            "colorbar": {
             "outlinewidth": 0,
             "ticks": ""
            },
            "colorscale": [
             [
              0,
              "#0d0887"
             ],
             [
              0.1111111111111111,
              "#46039f"
             ],
             [
              0.2222222222222222,
              "#7201a8"
             ],
             [
              0.3333333333333333,
              "#9c179e"
             ],
             [
              0.4444444444444444,
              "#bd3786"
             ],
             [
              0.5555555555555556,
              "#d8576b"
             ],
             [
              0.6666666666666666,
              "#ed7953"
             ],
             [
              0.7777777777777778,
              "#fb9f3a"
             ],
             [
              0.8888888888888888,
              "#fdca26"
             ],
             [
              1,
              "#f0f921"
             ]
            ],
            "type": "surface"
           }
          ],
          "table": [
           {
            "cells": {
             "fill": {
              "color": "#EBF0F8"
             },
             "line": {
              "color": "white"
             }
            },
            "header": {
             "fill": {
              "color": "#C8D4E3"
             },
             "line": {
              "color": "white"
             }
            },
            "type": "table"
           }
          ]
         },
         "layout": {
          "annotationdefaults": {
           "arrowcolor": "#2a3f5f",
           "arrowhead": 0,
           "arrowwidth": 1
          },
          "autotypenumbers": "strict",
          "coloraxis": {
           "colorbar": {
            "outlinewidth": 0,
            "ticks": ""
           }
          },
          "colorscale": {
           "diverging": [
            [
             0,
             "#8e0152"
            ],
            [
             0.1,
             "#c51b7d"
            ],
            [
             0.2,
             "#de77ae"
            ],
            [
             0.3,
             "#f1b6da"
            ],
            [
             0.4,
             "#fde0ef"
            ],
            [
             0.5,
             "#f7f7f7"
            ],
            [
             0.6,
             "#e6f5d0"
            ],
            [
             0.7,
             "#b8e186"
            ],
            [
             0.8,
             "#7fbc41"
            ],
            [
             0.9,
             "#4d9221"
            ],
            [
             1,
             "#276419"
            ]
           ],
           "sequential": [
            [
             0,
             "#0d0887"
            ],
            [
             0.1111111111111111,
             "#46039f"
            ],
            [
             0.2222222222222222,
             "#7201a8"
            ],
            [
             0.3333333333333333,
             "#9c179e"
            ],
            [
             0.4444444444444444,
             "#bd3786"
            ],
            [
             0.5555555555555556,
             "#d8576b"
            ],
            [
             0.6666666666666666,
             "#ed7953"
            ],
            [
             0.7777777777777778,
             "#fb9f3a"
            ],
            [
             0.8888888888888888,
             "#fdca26"
            ],
            [
             1,
             "#f0f921"
            ]
           ],
           "sequentialminus": [
            [
             0,
             "#0d0887"
            ],
            [
             0.1111111111111111,
             "#46039f"
            ],
            [
             0.2222222222222222,
             "#7201a8"
            ],
            [
             0.3333333333333333,
             "#9c179e"
            ],
            [
             0.4444444444444444,
             "#bd3786"
            ],
            [
             0.5555555555555556,
             "#d8576b"
            ],
            [
             0.6666666666666666,
             "#ed7953"
            ],
            [
             0.7777777777777778,
             "#fb9f3a"
            ],
            [
             0.8888888888888888,
             "#fdca26"
            ],
            [
             1,
             "#f0f921"
            ]
           ]
          },
          "colorway": [
           "#636efa",
           "#EF553B",
           "#00cc96",
           "#ab63fa",
           "#FFA15A",
           "#19d3f3",
           "#FF6692",
           "#B6E880",
           "#FF97FF",
           "#FECB52"
          ],
          "font": {
           "color": "#2a3f5f"
          },
          "geo": {
           "bgcolor": "white",
           "lakecolor": "white",
           "landcolor": "#E5ECF6",
           "showlakes": true,
           "showland": true,
           "subunitcolor": "white"
          },
          "hoverlabel": {
           "align": "left"
          },
          "hovermode": "closest",
          "mapbox": {
           "style": "light"
          },
          "paper_bgcolor": "white",
          "plot_bgcolor": "#E5ECF6",
          "polar": {
           "angularaxis": {
            "gridcolor": "white",
            "linecolor": "white",
            "ticks": ""
           },
           "bgcolor": "#E5ECF6",
           "radialaxis": {
            "gridcolor": "white",
            "linecolor": "white",
            "ticks": ""
           }
          },
          "scene": {
           "xaxis": {
            "backgroundcolor": "#E5ECF6",
            "gridcolor": "white",
            "gridwidth": 2,
            "linecolor": "white",
            "showbackground": true,
            "ticks": "",
            "zerolinecolor": "white"
           },
           "yaxis": {
            "backgroundcolor": "#E5ECF6",
            "gridcolor": "white",
            "gridwidth": 2,
            "linecolor": "white",
            "showbackground": true,
            "ticks": "",
            "zerolinecolor": "white"
           },
           "zaxis": {
            "backgroundcolor": "#E5ECF6",
            "gridcolor": "white",
            "gridwidth": 2,
            "linecolor": "white",
            "showbackground": true,
            "ticks": "",
            "zerolinecolor": "white"
           }
          },
          "shapedefaults": {
           "line": {
            "color": "#2a3f5f"
           }
          },
          "ternary": {
           "aaxis": {
            "gridcolor": "white",
            "linecolor": "white",
            "ticks": ""
           },
           "baxis": {
            "gridcolor": "white",
            "linecolor": "white",
            "ticks": ""
           },
           "bgcolor": "#E5ECF6",
           "caxis": {
            "gridcolor": "white",
            "linecolor": "white",
            "ticks": ""
           }
          },
          "title": {
           "x": 0.05
          },
          "xaxis": {
           "automargin": true,
           "gridcolor": "white",
           "linecolor": "white",
           "ticks": "",
           "title": {
            "standoff": 15
           },
           "zerolinecolor": "white",
           "zerolinewidth": 2
          },
          "yaxis": {
           "automargin": true,
           "gridcolor": "white",
           "linecolor": "white",
           "ticks": "",
           "title": {
            "standoff": 15
           },
           "zerolinecolor": "white",
           "zerolinewidth": 2
          }
         }
        },
        "xaxis": {
         "anchor": "y",
         "domain": [
          0,
          1
         ],
         "title": {
          "text": "index"
         }
        },
        "yaxis": {
         "anchor": "x",
         "domain": [
          0,
          1
         ],
         "title": {
          "text": "value"
         }
        }
       }
      }
     },
     "metadata": {},
     "output_type": "display_data"
    }
   ],
   "source": [
    "levels = pd.DataFrame([data, \n",
    "[float(level2) for i in range(61)], \n",
    "[float(level5) for i in range(61)], \n",
    "[float(level8) for i in range(61)]]).T\n",
    "\n",
    "levels.columns = ['fentanyl_seizures', 'alpha020', 'alpha050', 'alpha080']\n",
    "\n",
    "levels.reset_index(drop=True, inplace=True)\n",
    "\n",
    "# Plot using Plotly\n",
    "fig = px.line(levels, y=['fentanyl_seizures', 'alpha020', 'alpha050', 'alpha080'])\n",
    "\n",
    "# Show the plot\n",
    "fig.show()\n"
   ]
  },
  {
   "cell_type": "code",
   "execution_count": 59,
   "metadata": {},
   "outputs": [
    {
     "data": {
      "application/vnd.plotly.v1+json": {
       "config": {
        "plotlyServerURL": "https://plot.ly"
       },
       "data": [
        {
         "hovertemplate": "forecast=0<br>index=%{x}<br>seizures=%{y}<extra></extra>",
         "legendgroup": "0",
         "line": {
          "color": "#636efa",
          "dash": "solid"
         },
         "marker": {
          "symbol": "circle"
         },
         "mode": "lines",
         "name": "0",
         "orientation": "v",
         "showlegend": true,
         "type": "scatter",
         "x": [
          0,
          1,
          2,
          3,
          4,
          5,
          6,
          7,
          8,
          9,
          10,
          11,
          12,
          13,
          14,
          15,
          16,
          17,
          18,
          19,
          20,
          21,
          22,
          23,
          24,
          25,
          26,
          27,
          28,
          29,
          30,
          31,
          32,
          33,
          34,
          35,
          36,
          37,
          38,
          39,
          40,
          41,
          42,
          43,
          44,
          45,
          46,
          47,
          48,
          49,
          50,
          51,
          52,
          53,
          54,
          55,
          56,
          57,
          58,
          59
         ],
         "xaxis": "x",
         "y": [
          260.9430759551342,
          305.8565297594489,
          79.869044570994,
          220.0447156107352,
          418.78698494605356,
          156.3516629779736,
          308.959134753672,
          268.078029069031,
          413.7864887785861,
          157.7209921138192,
          396.249642375928,
          205.96112372366983,
          307.8165285699486,
          770.6345295784926,
          117.36138501676359,
          292.36387526196563,
          162.8431321271892,
          799.5693829696163,
          752.303866168023,
          281.9679742743118,
          288.8891712593374,
          320.70245377760915,
          469.2872372950842,
          785.640979317412,
          893.5912922729631,
          1232.618625526779,
          1268.2659119149923,
          845.4226949721668,
          945.5464044962648,
          907.5243221258916,
          1064.279905638225,
          867.4719947984188,
          1085.1355407338365,
          834.9933446704251,
          1263.0109005484608,
          779.2832037209332,
          1457.7199588652556,
          2342.161531285645,
          564.4674882768037,
          752.6685633786221,
          1141.1678125677886,
          2246.359703010678,
          745.7864243104416,
          1283.239004313591,
          1111.912675865874,
          1269.8091405884804,
          1092.2904825528335,
          2017.7560493905514,
          3340.896293358731,
          1849.336595743091,
          2502.8674694614847,
          2325.8372181011064,
          1672.2224285035136,
          1865.9808051155571,
          2397.9180226420494,
          2958.6764263839036,
          2804.925575540499,
          3221.2039550807535,
          2065.2480827060554,
          1470.8580430674092
         ],
         "yaxis": "y"
        },
        {
         "hovertemplate": "forecast=1<br>index=%{x}<br>seizures=%{y}<extra></extra>",
         "legendgroup": "1",
         "line": {
          "color": "#EF553B",
          "dash": "solid"
         },
         "marker": {
          "symbol": "circle"
         },
         "mode": "lines",
         "name": "1",
         "orientation": "v",
         "showlegend": true,
         "type": "scatter",
         "x": [
          60,
          61,
          62,
          63,
          64,
          65,
          66,
          67,
          68,
          69,
          70,
          71,
          72,
          73,
          74,
          75,
          76,
          77,
          78,
          79,
          80,
          81,
          82,
          83,
          84,
          85,
          86,
          87,
          88,
          89,
          90,
          91,
          92,
          93,
          94,
          95,
          96,
          97,
          98,
          99,
          100,
          101,
          102,
          103,
          104,
          105,
          106,
          107,
          108,
          109,
          110,
          111,
          112,
          113,
          114,
          115,
          116,
          117,
          118,
          119
         ],
         "xaxis": "x",
         "y": [
          2575.2172615850122,
          2637.885485025454,
          2700.553708465896,
          2763.2219319063374,
          2825.890155346779,
          2888.5583787872206,
          2951.226602227662,
          3013.894825668104,
          3076.563049108546,
          3139.2312725489874,
          3201.899495989429,
          3264.5677194298705,
          3327.2359428703126,
          3389.904166310754,
          3452.5723897511957,
          3515.2406131916373,
          3577.9088366320793,
          3640.577060072521,
          3703.2452835129625,
          3765.913506953404,
          3828.5817303938456,
          3891.249953834287,
          3953.918177274729,
          4016.586400715171,
          4079.2546241556124,
          4141.922847596054,
          4204.591071036496,
          4267.259294476938,
          4329.927517917379,
          4392.595741357821,
          4455.263964798262,
          4517.932188238704,
          4580.600411679146,
          4643.268635119588,
          4705.93685856003,
          4768.605082000471,
          4831.273305440913,
          4893.941528881354,
          4956.609752321796,
          5019.2779757622375,
          5081.946199202679,
          5144.614422643121,
          5207.282646083562,
          5269.950869524004,
          5332.619092964445,
          5395.287316404887,
          5457.955539845329,
          5520.623763285771,
          5583.291986726213,
          5645.960210166654,
          5708.628433607096,
          5771.296657047538,
          5833.96488048798,
          5896.633103928421,
          5959.301327368863,
          6021.969550809305,
          6084.637774249746,
          6147.305997690188,
          6209.974221130629,
          6272.642444571071
         ],
         "yaxis": "y"
        }
       ],
       "layout": {
        "legend": {
         "title": {
          "text": "forecast"
         },
         "tracegroupgap": 0
        },
        "template": {
         "data": {
          "bar": [
           {
            "error_x": {
             "color": "#2a3f5f"
            },
            "error_y": {
             "color": "#2a3f5f"
            },
            "marker": {
             "line": {
              "color": "#E5ECF6",
              "width": 0.5
             },
             "pattern": {
              "fillmode": "overlay",
              "size": 10,
              "solidity": 0.2
             }
            },
            "type": "bar"
           }
          ],
          "barpolar": [
           {
            "marker": {
             "line": {
              "color": "#E5ECF6",
              "width": 0.5
             },
             "pattern": {
              "fillmode": "overlay",
              "size": 10,
              "solidity": 0.2
             }
            },
            "type": "barpolar"
           }
          ],
          "carpet": [
           {
            "aaxis": {
             "endlinecolor": "#2a3f5f",
             "gridcolor": "white",
             "linecolor": "white",
             "minorgridcolor": "white",
             "startlinecolor": "#2a3f5f"
            },
            "baxis": {
             "endlinecolor": "#2a3f5f",
             "gridcolor": "white",
             "linecolor": "white",
             "minorgridcolor": "white",
             "startlinecolor": "#2a3f5f"
            },
            "type": "carpet"
           }
          ],
          "choropleth": [
           {
            "colorbar": {
             "outlinewidth": 0,
             "ticks": ""
            },
            "type": "choropleth"
           }
          ],
          "contour": [
           {
            "colorbar": {
             "outlinewidth": 0,
             "ticks": ""
            },
            "colorscale": [
             [
              0,
              "#0d0887"
             ],
             [
              0.1111111111111111,
              "#46039f"
             ],
             [
              0.2222222222222222,
              "#7201a8"
             ],
             [
              0.3333333333333333,
              "#9c179e"
             ],
             [
              0.4444444444444444,
              "#bd3786"
             ],
             [
              0.5555555555555556,
              "#d8576b"
             ],
             [
              0.6666666666666666,
              "#ed7953"
             ],
             [
              0.7777777777777778,
              "#fb9f3a"
             ],
             [
              0.8888888888888888,
              "#fdca26"
             ],
             [
              1,
              "#f0f921"
             ]
            ],
            "type": "contour"
           }
          ],
          "contourcarpet": [
           {
            "colorbar": {
             "outlinewidth": 0,
             "ticks": ""
            },
            "type": "contourcarpet"
           }
          ],
          "heatmap": [
           {
            "colorbar": {
             "outlinewidth": 0,
             "ticks": ""
            },
            "colorscale": [
             [
              0,
              "#0d0887"
             ],
             [
              0.1111111111111111,
              "#46039f"
             ],
             [
              0.2222222222222222,
              "#7201a8"
             ],
             [
              0.3333333333333333,
              "#9c179e"
             ],
             [
              0.4444444444444444,
              "#bd3786"
             ],
             [
              0.5555555555555556,
              "#d8576b"
             ],
             [
              0.6666666666666666,
              "#ed7953"
             ],
             [
              0.7777777777777778,
              "#fb9f3a"
             ],
             [
              0.8888888888888888,
              "#fdca26"
             ],
             [
              1,
              "#f0f921"
             ]
            ],
            "type": "heatmap"
           }
          ],
          "heatmapgl": [
           {
            "colorbar": {
             "outlinewidth": 0,
             "ticks": ""
            },
            "colorscale": [
             [
              0,
              "#0d0887"
             ],
             [
              0.1111111111111111,
              "#46039f"
             ],
             [
              0.2222222222222222,
              "#7201a8"
             ],
             [
              0.3333333333333333,
              "#9c179e"
             ],
             [
              0.4444444444444444,
              "#bd3786"
             ],
             [
              0.5555555555555556,
              "#d8576b"
             ],
             [
              0.6666666666666666,
              "#ed7953"
             ],
             [
              0.7777777777777778,
              "#fb9f3a"
             ],
             [
              0.8888888888888888,
              "#fdca26"
             ],
             [
              1,
              "#f0f921"
             ]
            ],
            "type": "heatmapgl"
           }
          ],
          "histogram": [
           {
            "marker": {
             "pattern": {
              "fillmode": "overlay",
              "size": 10,
              "solidity": 0.2
             }
            },
            "type": "histogram"
           }
          ],
          "histogram2d": [
           {
            "colorbar": {
             "outlinewidth": 0,
             "ticks": ""
            },
            "colorscale": [
             [
              0,
              "#0d0887"
             ],
             [
              0.1111111111111111,
              "#46039f"
             ],
             [
              0.2222222222222222,
              "#7201a8"
             ],
             [
              0.3333333333333333,
              "#9c179e"
             ],
             [
              0.4444444444444444,
              "#bd3786"
             ],
             [
              0.5555555555555556,
              "#d8576b"
             ],
             [
              0.6666666666666666,
              "#ed7953"
             ],
             [
              0.7777777777777778,
              "#fb9f3a"
             ],
             [
              0.8888888888888888,
              "#fdca26"
             ],
             [
              1,
              "#f0f921"
             ]
            ],
            "type": "histogram2d"
           }
          ],
          "histogram2dcontour": [
           {
            "colorbar": {
             "outlinewidth": 0,
             "ticks": ""
            },
            "colorscale": [
             [
              0,
              "#0d0887"
             ],
             [
              0.1111111111111111,
              "#46039f"
             ],
             [
              0.2222222222222222,
              "#7201a8"
             ],
             [
              0.3333333333333333,
              "#9c179e"
             ],
             [
              0.4444444444444444,
              "#bd3786"
             ],
             [
              0.5555555555555556,
              "#d8576b"
             ],
             [
              0.6666666666666666,
              "#ed7953"
             ],
             [
              0.7777777777777778,
              "#fb9f3a"
             ],
             [
              0.8888888888888888,
              "#fdca26"
             ],
             [
              1,
              "#f0f921"
             ]
            ],
            "type": "histogram2dcontour"
           }
          ],
          "mesh3d": [
           {
            "colorbar": {
             "outlinewidth": 0,
             "ticks": ""
            },
            "type": "mesh3d"
           }
          ],
          "parcoords": [
           {
            "line": {
             "colorbar": {
              "outlinewidth": 0,
              "ticks": ""
             }
            },
            "type": "parcoords"
           }
          ],
          "pie": [
           {
            "automargin": true,
            "type": "pie"
           }
          ],
          "scatter": [
           {
            "fillpattern": {
             "fillmode": "overlay",
             "size": 10,
             "solidity": 0.2
            },
            "type": "scatter"
           }
          ],
          "scatter3d": [
           {
            "line": {
             "colorbar": {
              "outlinewidth": 0,
              "ticks": ""
             }
            },
            "marker": {
             "colorbar": {
              "outlinewidth": 0,
              "ticks": ""
             }
            },
            "type": "scatter3d"
           }
          ],
          "scattercarpet": [
           {
            "marker": {
             "colorbar": {
              "outlinewidth": 0,
              "ticks": ""
             }
            },
            "type": "scattercarpet"
           }
          ],
          "scattergeo": [
           {
            "marker": {
             "colorbar": {
              "outlinewidth": 0,
              "ticks": ""
             }
            },
            "type": "scattergeo"
           }
          ],
          "scattergl": [
           {
            "marker": {
             "colorbar": {
              "outlinewidth": 0,
              "ticks": ""
             }
            },
            "type": "scattergl"
           }
          ],
          "scattermapbox": [
           {
            "marker": {
             "colorbar": {
              "outlinewidth": 0,
              "ticks": ""
             }
            },
            "type": "scattermapbox"
           }
          ],
          "scatterpolar": [
           {
            "marker": {
             "colorbar": {
              "outlinewidth": 0,
              "ticks": ""
             }
            },
            "type": "scatterpolar"
           }
          ],
          "scatterpolargl": [
           {
            "marker": {
             "colorbar": {
              "outlinewidth": 0,
              "ticks": ""
             }
            },
            "type": "scatterpolargl"
           }
          ],
          "scatterternary": [
           {
            "marker": {
             "colorbar": {
              "outlinewidth": 0,
              "ticks": ""
             }
            },
            "type": "scatterternary"
           }
          ],
          "surface": [
           {
            "colorbar": {
             "outlinewidth": 0,
             "ticks": ""
            },
            "colorscale": [
             [
              0,
              "#0d0887"
             ],
             [
              0.1111111111111111,
              "#46039f"
             ],
             [
              0.2222222222222222,
              "#7201a8"
             ],
             [
              0.3333333333333333,
              "#9c179e"
             ],
             [
              0.4444444444444444,
              "#bd3786"
             ],
             [
              0.5555555555555556,
              "#d8576b"
             ],
             [
              0.6666666666666666,
              "#ed7953"
             ],
             [
              0.7777777777777778,
              "#fb9f3a"
             ],
             [
              0.8888888888888888,
              "#fdca26"
             ],
             [
              1,
              "#f0f921"
             ]
            ],
            "type": "surface"
           }
          ],
          "table": [
           {
            "cells": {
             "fill": {
              "color": "#EBF0F8"
             },
             "line": {
              "color": "white"
             }
            },
            "header": {
             "fill": {
              "color": "#C8D4E3"
             },
             "line": {
              "color": "white"
             }
            },
            "type": "table"
           }
          ]
         },
         "layout": {
          "annotationdefaults": {
           "arrowcolor": "#2a3f5f",
           "arrowhead": 0,
           "arrowwidth": 1
          },
          "autotypenumbers": "strict",
          "coloraxis": {
           "colorbar": {
            "outlinewidth": 0,
            "ticks": ""
           }
          },
          "colorscale": {
           "diverging": [
            [
             0,
             "#8e0152"
            ],
            [
             0.1,
             "#c51b7d"
            ],
            [
             0.2,
             "#de77ae"
            ],
            [
             0.3,
             "#f1b6da"
            ],
            [
             0.4,
             "#fde0ef"
            ],
            [
             0.5,
             "#f7f7f7"
            ],
            [
             0.6,
             "#e6f5d0"
            ],
            [
             0.7,
             "#b8e186"
            ],
            [
             0.8,
             "#7fbc41"
            ],
            [
             0.9,
             "#4d9221"
            ],
            [
             1,
             "#276419"
            ]
           ],
           "sequential": [
            [
             0,
             "#0d0887"
            ],
            [
             0.1111111111111111,
             "#46039f"
            ],
            [
             0.2222222222222222,
             "#7201a8"
            ],
            [
             0.3333333333333333,
             "#9c179e"
            ],
            [
             0.4444444444444444,
             "#bd3786"
            ],
            [
             0.5555555555555556,
             "#d8576b"
            ],
            [
             0.6666666666666666,
             "#ed7953"
            ],
            [
             0.7777777777777778,
             "#fb9f3a"
            ],
            [
             0.8888888888888888,
             "#fdca26"
            ],
            [
             1,
             "#f0f921"
            ]
           ],
           "sequentialminus": [
            [
             0,
             "#0d0887"
            ],
            [
             0.1111111111111111,
             "#46039f"
            ],
            [
             0.2222222222222222,
             "#7201a8"
            ],
            [
             0.3333333333333333,
             "#9c179e"
            ],
            [
             0.4444444444444444,
             "#bd3786"
            ],
            [
             0.5555555555555556,
             "#d8576b"
            ],
            [
             0.6666666666666666,
             "#ed7953"
            ],
            [
             0.7777777777777778,
             "#fb9f3a"
            ],
            [
             0.8888888888888888,
             "#fdca26"
            ],
            [
             1,
             "#f0f921"
            ]
           ]
          },
          "colorway": [
           "#636efa",
           "#EF553B",
           "#00cc96",
           "#ab63fa",
           "#FFA15A",
           "#19d3f3",
           "#FF6692",
           "#B6E880",
           "#FF97FF",
           "#FECB52"
          ],
          "font": {
           "color": "#2a3f5f"
          },
          "geo": {
           "bgcolor": "white",
           "lakecolor": "white",
           "landcolor": "#E5ECF6",
           "showlakes": true,
           "showland": true,
           "subunitcolor": "white"
          },
          "hoverlabel": {
           "align": "left"
          },
          "hovermode": "closest",
          "mapbox": {
           "style": "light"
          },
          "paper_bgcolor": "white",
          "plot_bgcolor": "#E5ECF6",
          "polar": {
           "angularaxis": {
            "gridcolor": "white",
            "linecolor": "white",
            "ticks": ""
           },
           "bgcolor": "#E5ECF6",
           "radialaxis": {
            "gridcolor": "white",
            "linecolor": "white",
            "ticks": ""
           }
          },
          "scene": {
           "xaxis": {
            "backgroundcolor": "#E5ECF6",
            "gridcolor": "white",
            "gridwidth": 2,
            "linecolor": "white",
            "showbackground": true,
            "ticks": "",
            "zerolinecolor": "white"
           },
           "yaxis": {
            "backgroundcolor": "#E5ECF6",
            "gridcolor": "white",
            "gridwidth": 2,
            "linecolor": "white",
            "showbackground": true,
            "ticks": "",
            "zerolinecolor": "white"
           },
           "zaxis": {
            "backgroundcolor": "#E5ECF6",
            "gridcolor": "white",
            "gridwidth": 2,
            "linecolor": "white",
            "showbackground": true,
            "ticks": "",
            "zerolinecolor": "white"
           }
          },
          "shapedefaults": {
           "line": {
            "color": "#2a3f5f"
           }
          },
          "ternary": {
           "aaxis": {
            "gridcolor": "white",
            "linecolor": "white",
            "ticks": ""
           },
           "baxis": {
            "gridcolor": "white",
            "linecolor": "white",
            "ticks": ""
           },
           "bgcolor": "#E5ECF6",
           "caxis": {
            "gridcolor": "white",
            "linecolor": "white",
            "ticks": ""
           }
          },
          "title": {
           "x": 0.05
          },
          "xaxis": {
           "automargin": true,
           "gridcolor": "white",
           "linecolor": "white",
           "ticks": "",
           "title": {
            "standoff": 15
           },
           "zerolinecolor": "white",
           "zerolinewidth": 2
          },
          "yaxis": {
           "automargin": true,
           "gridcolor": "white",
           "linecolor": "white",
           "ticks": "",
           "title": {
            "standoff": 15
           },
           "zerolinecolor": "white",
           "zerolinewidth": 2
          }
         }
        },
        "title": {
         "text": "Random Walk with Forecast"
        },
        "xaxis": {
         "anchor": "y",
         "domain": [
          0,
          1
         ],
         "title": {
          "text": "index"
         }
        },
        "yaxis": {
         "anchor": "x",
         "domain": [
          0,
          1
         ],
         "title": {
          "text": "seizures"
         }
        }
       }
      }
     },
     "metadata": {},
     "output_type": "display_data"
    }
   ],
   "source": [
    "trend = ExponentialSmoothing(data, trend='add').fit()\n",
    "forecast = trend.forecast(steps=60)\n",
    "values = np.concatenate([data, forecast])\n",
    "yesnoforecast = [0] * 60 + [1] * 60\n",
    "# Create DataFrame for plotting\n",
    "trends = pd.DataFrame({'seizures': values, 'forecast': yesnoforecast})\n",
    "\n",
    "                   \n",
    "# Plotting\n",
    "fig = px.line(trends, y='seizures', color='forecast', title='Random Walk with Forecast')\n",
    "fig.show()"
   ]
  },
  {
   "cell_type": "code",
   "execution_count": 56,
   "metadata": {},
   "outputs": [
    {
     "ename": "IndexError",
     "evalue": "only integers, slices (`:`), ellipsis (`...`), numpy.newaxis (`None`) and integer or boolean arrays are valid indices",
     "output_type": "error",
     "traceback": [
      "\u001b[0;31m---------------------------------------------------------------------------\u001b[0m",
      "\u001b[0;31mIndexError\u001b[0m                                Traceback (most recent call last)",
      "Cell \u001b[0;32mIn[56], line 1\u001b[0m\n\u001b[0;32m----> 1\u001b[0m trends \u001b[38;5;241m=\u001b[39m pd\u001b[38;5;241m.\u001b[39mconcat([\u001b[43mdata\u001b[49m\u001b[43m[\u001b[49m\u001b[38;5;124;43m'\u001b[39;49m\u001b[38;5;124;43mFY\u001b[39;49m\u001b[38;5;124;43m'\u001b[39;49m\u001b[43m]\u001b[49m[\u001b[38;5;124m'\u001b[39m\u001b[38;5;124mMonth (Abbv)\u001b[39m\u001b[38;5;124m'\u001b[39m], trends])\n",
      "\u001b[0;31mIndexError\u001b[0m: only integers, slices (`:`), ellipsis (`...`), numpy.newaxis (`None`) and integer or boolean arrays are valid indices"
     ]
    }
   ],
   "source": [
    "trends = pd.concat([data['FY']['Month (Abbv)'], trends])"
   ]
  },
  {
   "cell_type": "code",
   "execution_count": null,
   "metadata": {},
   "outputs": [],
   "source": []
  }
 ],
 "metadata": {
  "kernelspec": {
   "display_name": "Python 3",
   "language": "python",
   "name": "python3"
  },
  "language_info": {
   "codemirror_mode": {
    "name": "ipython",
    "version": 3
   },
   "file_extension": ".py",
   "mimetype": "text/x-python",
   "name": "python",
   "nbconvert_exporter": "python",
   "pygments_lexer": "ipython3",
   "version": "3.11.5"
  }
 },
 "nbformat": 4,
 "nbformat_minor": 2
}
