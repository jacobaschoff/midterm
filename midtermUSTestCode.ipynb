{
 "cells": [
  {
   "cell_type": "code",
   "execution_count": 1,
   "metadata": {},
   "outputs": [],
   "source": [
    "#Library imports \n",
    "import pandas as pd\n",
    "from statsmodels.tsa.api import ExponentialSmoothing, SimpleExpSmoothing\n",
    "import numpy as np\n",
    "import plotly.express as px\n",
    "import patsy as pt\n",
    "import numpy as np\n",
    "from plotly import tools\n",
    "import plotly.offline as py\n",
    "import plotly.graph_objs as go"
   ]
  },
  {
   "cell_type": "code",
   "execution_count": 3,
   "metadata": {},
   "outputs": [],
   "source": [
    "#Importing necessary data which has been obtained via UN source. Pulled all import and export data available for selected country.\n",
    "\n",
    "usa = pd.read_csv('https://raw.githubusercontent.com/jacobaschoff/midterm/main/US%20Data%20(Commodity%20Coded).csv') #Reading in CSV file.\n",
    "usa = pd.DataFrame(usa) #Dataframe to enable easier Pandas library usage.\n"
   ]
  },
  {
   "cell_type": "code",
   "execution_count": 4,
   "metadata": {},
   "outputs": [],
   "source": [
    "#Pulling out data based on the commodity code for fentanyl.\n",
    "#NOTE: In 2022, the UN added an additional 2 \"other fentanyl\" commodity codes. The code we are using is for simplicity in our midterm, as it has the most historical data\n",
    "\n",
    "fentanylData = usa[usa['Comm. Code'] == 293333]"
   ]
  },
  {
   "cell_type": "code",
   "execution_count": 13,
   "metadata": {},
   "outputs": [],
   "source": [
    "#Breaking out the import, export and re-export data related to fentanyl\n",
    "#NOTE: Re-export is any previously imported goods that are exported later.\n",
    "importData = fentanylData[fentanylData['Flow'] == 'Import']\n",
    "reExportData = fentanylData[fentanylData['Flow'] == 'Re-Export']\n",
    "exportData = fentanylData[fentanylData['Flow'] == 'Export']"
   ]
  },
  {
   "cell_type": "code",
   "execution_count": null,
   "metadata": {},
   "outputs": [],
   "source": [
    "#Plotting historical import data based on trade value in USD\n",
    "figUSImValue = px.line(importData, x='Year', y='Trade (USD)')\n",
    "figUSImValue"
   ]
  },
  {
   "cell_type": "code",
   "execution_count": null,
   "metadata": {},
   "outputs": [],
   "source": [
    "#Plotting historical re-export data based on trade value in USD\n",
    "figUSREValue = px.line(reExportData, x='Year', y='Trade (USD)')\n",
    "figUSREValue"
   ]
  },
  {
   "cell_type": "code",
   "execution_count": null,
   "metadata": {},
   "outputs": [],
   "source": [
    "#Plotting historical export data based on trade value in USD\n",
    "figUSExValue = px.line(exportData, x='Year', y='Trade (USD)')\n",
    "figUSExValue"
   ]
  }
 ],
 "metadata": {
  "kernelspec": {
   "display_name": "Python 3",
   "language": "python",
   "name": "python3"
  },
  "language_info": {
   "codemirror_mode": {
    "name": "ipython",
    "version": 3
   },
   "file_extension": ".py",
   "mimetype": "text/x-python",
   "name": "python",
   "nbconvert_exporter": "python",
   "pygments_lexer": "ipython3",
   "version": "3.11.5"
  }
 },
 "nbformat": 4,
 "nbformat_minor": 2
}
