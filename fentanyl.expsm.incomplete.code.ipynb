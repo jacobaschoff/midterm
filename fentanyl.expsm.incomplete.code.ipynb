{
 "cells": [
  {
   "cell_type": "code",
   "execution_count": 2,
   "id": "dd7735e5",
   "metadata": {},
   "outputs": [
    {
     "name": "stdout",
     "output_type": "stream",
     "text": [
      "Collecting pygam\n",
      "  Downloading pygam-0.9.1-py3-none-any.whl (522 kB)\n",
      "\u001b[2K     \u001b[90m━━━━━━━━━━━━━━━━━━━━━━━━━━━━━━━━━━━━━━━\u001b[0m \u001b[32m522.0/522.0 kB\u001b[0m \u001b[31m4.9 MB/s\u001b[0m eta \u001b[36m0:00:00\u001b[0m00:01\u001b[0m00:01\u001b[0m\n",
      "\u001b[?25hCollecting scipy<1.12,>=1.11.1\n",
      "  Downloading scipy-1.11.4-cp310-cp310-macosx_10_9_x86_64.whl (37.3 MB)\n",
      "\u001b[2K     \u001b[90m━━━━━━━━━━━━━━━━━━━━━━━━━━━━━━━━━━━━━━━━\u001b[0m \u001b[32m37.3/37.3 MB\u001b[0m \u001b[31m12.5 MB/s\u001b[0m eta \u001b[36m0:00:00\u001b[0m00:01\u001b[0m00:01\u001b[0m\n",
      "\u001b[?25hCollecting progressbar2<5.0.0,>=4.2.0\n",
      "  Downloading progressbar2-4.4.2-py3-none-any.whl (56 kB)\n",
      "\u001b[2K     \u001b[90m━━━━━━━━━━━━━━━━━━━━━━━━━━━━━━━━━━━━━━━━\u001b[0m \u001b[32m56.8/56.8 kB\u001b[0m \u001b[31m1.8 MB/s\u001b[0m eta \u001b[36m0:00:00\u001b[0m\n",
      "\u001b[?25hCollecting numpy>=1.25\n",
      "  Downloading numpy-1.26.4-cp310-cp310-macosx_10_9_x86_64.whl (20.6 MB)\n",
      "\u001b[2K     \u001b[90m━━━━━━━━━━━━━━━━━━━━━━━━━━━━━━━━━━━━━━━━\u001b[0m \u001b[32m20.6/20.6 MB\u001b[0m \u001b[31m12.7 MB/s\u001b[0m eta \u001b[36m0:00:00\u001b[0m00:01\u001b[0m00:01\u001b[0m\n",
      "\u001b[?25hCollecting python-utils>=3.8.1\n",
      "  Downloading python_utils-3.8.2-py2.py3-none-any.whl (27 kB)\n",
      "Requirement already satisfied: typing-extensions>3.10.0.2 in ./anaconda3/lib/python3.10/site-packages (from python-utils>=3.8.1->progressbar2<5.0.0,>=4.2.0->pygam) (4.4.0)\n",
      "Installing collected packages: python-utils, numpy, scipy, progressbar2, pygam\n",
      "  Attempting uninstall: numpy\n",
      "    Found existing installation: numpy 1.22.3\n",
      "    Uninstalling numpy-1.22.3:\n",
      "      Successfully uninstalled numpy-1.22.3\n",
      "  Attempting uninstall: scipy\n",
      "    Found existing installation: scipy 1.7.3\n",
      "    Uninstalling scipy-1.7.3:\n",
      "      Successfully uninstalled scipy-1.7.3\n",
      "\u001b[31mERROR: pip's dependency resolver does not currently take into account all the packages that are installed. This behaviour is the source of the following dependency conflicts.\n",
      "gensim 4.3.0 requires FuzzyTM>=0.4.0, which is not installed.\n",
      "numba 0.56.4 requires numpy<1.24,>=1.18, but you have numpy 1.26.4 which is incompatible.\u001b[0m\u001b[31m\n",
      "\u001b[0mSuccessfully installed numpy-1.26.4 progressbar2-4.4.2 pygam-0.9.1 python-utils-3.8.2 scipy-1.11.4\n",
      "Note: you may need to restart the kernel to use updated packages.\n"
     ]
    }
   ],
   "source": [
    "pip install pygam"
   ]
  },
  {
   "cell_type": "code",
   "execution_count": 130,
   "id": "c36f7986",
   "metadata": {},
   "outputs": [],
   "source": [
    "from pygam import LinearGAM, s, f\n",
    "import pandas as pd\n",
    "import patsy as pt\n",
    "import numpy as np\n",
    "from plotly import tools\n",
    "import plotly.offline as py\n",
    "import plotly.graph_objs as go\n",
    "from statsmodels.tsa.api import ExponentialSmoothing, SimpleExpSmoothing\n",
    "import matplotlib.pyplot as plt\n",
    "\n",
    "# Prep the dataset\n",
    "#   Put this back on one line!!\n",
    "data = pd.read_csv(\"https://raw.githubusercontent.com/jacobaschoff/midterm/main/nationwide-drugs-fy20-fy23.csv\")"
   ]
  },
  {
   "cell_type": "code",
   "execution_count": 79,
   "id": "7fd4d761",
   "metadata": {},
   "outputs": [],
   "source": [
    "data = pd.DataFrame(data)"
   ]
  },
  {
   "cell_type": "code",
   "execution_count": 80,
   "id": "3e9c778b",
   "metadata": {},
   "outputs": [
    {
     "data": {
      "text/html": [
       "<div>\n",
       "<style scoped>\n",
       "    .dataframe tbody tr th:only-of-type {\n",
       "        vertical-align: middle;\n",
       "    }\n",
       "\n",
       "    .dataframe tbody tr th {\n",
       "        vertical-align: top;\n",
       "    }\n",
       "\n",
       "    .dataframe thead th {\n",
       "        text-align: right;\n",
       "    }\n",
       "</style>\n",
       "<table border=\"1\" class=\"dataframe\">\n",
       "  <thead>\n",
       "    <tr style=\"text-align: right;\">\n",
       "      <th></th>\n",
       "      <th>FY</th>\n",
       "      <th>Month (abbv)</th>\n",
       "      <th>Component</th>\n",
       "      <th>Region</th>\n",
       "      <th>Land Filter</th>\n",
       "      <th>Area of Responsibility</th>\n",
       "      <th>Drug Type</th>\n",
       "      <th>Count of Event</th>\n",
       "      <th>Sum Qty (lbs)</th>\n",
       "    </tr>\n",
       "  </thead>\n",
       "  <tbody>\n",
       "    <tr>\n",
       "      <th>0</th>\n",
       "      <td>2020</td>\n",
       "      <td>APR</td>\n",
       "      <td>Office of Field Operations</td>\n",
       "      <td>Coastal/Interior</td>\n",
       "      <td>Other</td>\n",
       "      <td>ATLANTA FIELD OFFICE</td>\n",
       "      <td>Other Drugs**</td>\n",
       "      <td>2</td>\n",
       "      <td>0.330693</td>\n",
       "    </tr>\n",
       "    <tr>\n",
       "      <th>1</th>\n",
       "      <td>2020</td>\n",
       "      <td>APR</td>\n",
       "      <td>Office of Field Operations</td>\n",
       "      <td>Coastal/Interior</td>\n",
       "      <td>Other</td>\n",
       "      <td>BALTIMORE FIELD OFFICE</td>\n",
       "      <td>Ketamine</td>\n",
       "      <td>1</td>\n",
       "      <td>0.017417</td>\n",
       "    </tr>\n",
       "    <tr>\n",
       "      <th>2</th>\n",
       "      <td>2020</td>\n",
       "      <td>APR</td>\n",
       "      <td>Office of Field Operations</td>\n",
       "      <td>Coastal/Interior</td>\n",
       "      <td>Other</td>\n",
       "      <td>BALTIMORE FIELD OFFICE</td>\n",
       "      <td>Khat (Catha Edulis)</td>\n",
       "      <td>2</td>\n",
       "      <td>1137.497087</td>\n",
       "    </tr>\n",
       "    <tr>\n",
       "      <th>3</th>\n",
       "      <td>2020</td>\n",
       "      <td>APR</td>\n",
       "      <td>Office of Field Operations</td>\n",
       "      <td>Coastal/Interior</td>\n",
       "      <td>Other</td>\n",
       "      <td>BALTIMORE FIELD OFFICE</td>\n",
       "      <td>Other Drugs**</td>\n",
       "      <td>13</td>\n",
       "      <td>5.258907</td>\n",
       "    </tr>\n",
       "    <tr>\n",
       "      <th>4</th>\n",
       "      <td>2020</td>\n",
       "      <td>APR</td>\n",
       "      <td>Office of Field Operations</td>\n",
       "      <td>Coastal/Interior</td>\n",
       "      <td>Other</td>\n",
       "      <td>CHICAGO FIELD OFFICE</td>\n",
       "      <td>Cocaine</td>\n",
       "      <td>7</td>\n",
       "      <td>125.697881</td>\n",
       "    </tr>\n",
       "    <tr>\n",
       "      <th>...</th>\n",
       "      <td>...</td>\n",
       "      <td>...</td>\n",
       "      <td>...</td>\n",
       "      <td>...</td>\n",
       "      <td>...</td>\n",
       "      <td>...</td>\n",
       "      <td>...</td>\n",
       "      <td>...</td>\n",
       "      <td>...</td>\n",
       "    </tr>\n",
       "    <tr>\n",
       "      <th>9919</th>\n",
       "      <td>2023</td>\n",
       "      <td>SEP</td>\n",
       "      <td>U.S. Border Patrol</td>\n",
       "      <td>Southwest Border</td>\n",
       "      <td>Land Only</td>\n",
       "      <td>TUCSON SECTOR</td>\n",
       "      <td>Other Drugs**</td>\n",
       "      <td>4</td>\n",
       "      <td>0.222700</td>\n",
       "    </tr>\n",
       "    <tr>\n",
       "      <th>9920</th>\n",
       "      <td>2023</td>\n",
       "      <td>SEP</td>\n",
       "      <td>U.S. Border Patrol</td>\n",
       "      <td>Southwest Border</td>\n",
       "      <td>Land Only</td>\n",
       "      <td>YUMA SECTOR</td>\n",
       "      <td>Fentanyl</td>\n",
       "      <td>2</td>\n",
       "      <td>4.952400</td>\n",
       "    </tr>\n",
       "    <tr>\n",
       "      <th>9921</th>\n",
       "      <td>2023</td>\n",
       "      <td>SEP</td>\n",
       "      <td>U.S. Border Patrol</td>\n",
       "      <td>Southwest Border</td>\n",
       "      <td>Land Only</td>\n",
       "      <td>YUMA SECTOR</td>\n",
       "      <td>Marijuana</td>\n",
       "      <td>11</td>\n",
       "      <td>0.412100</td>\n",
       "    </tr>\n",
       "    <tr>\n",
       "      <th>9922</th>\n",
       "      <td>2023</td>\n",
       "      <td>SEP</td>\n",
       "      <td>U.S. Border Patrol</td>\n",
       "      <td>Southwest Border</td>\n",
       "      <td>Land Only</td>\n",
       "      <td>YUMA SECTOR</td>\n",
       "      <td>Methamphetamine</td>\n",
       "      <td>2</td>\n",
       "      <td>84.452600</td>\n",
       "    </tr>\n",
       "    <tr>\n",
       "      <th>9923</th>\n",
       "      <td>2023</td>\n",
       "      <td>SEP</td>\n",
       "      <td>U.S. Border Patrol</td>\n",
       "      <td>Southwest Border</td>\n",
       "      <td>Land Only</td>\n",
       "      <td>YUMA SECTOR</td>\n",
       "      <td>Other Drugs**</td>\n",
       "      <td>2</td>\n",
       "      <td>1.748300</td>\n",
       "    </tr>\n",
       "  </tbody>\n",
       "</table>\n",
       "<p>9924 rows × 9 columns</p>\n",
       "</div>"
      ],
      "text/plain": [
       "        FY Month (abbv)                   Component            Region  \\\n",
       "0     2020          APR  Office of Field Operations  Coastal/Interior   \n",
       "1     2020          APR  Office of Field Operations  Coastal/Interior   \n",
       "2     2020          APR  Office of Field Operations  Coastal/Interior   \n",
       "3     2020          APR  Office of Field Operations  Coastal/Interior   \n",
       "4     2020          APR  Office of Field Operations  Coastal/Interior   \n",
       "...    ...          ...                         ...               ...   \n",
       "9919  2023          SEP          U.S. Border Patrol  Southwest Border   \n",
       "9920  2023          SEP          U.S. Border Patrol  Southwest Border   \n",
       "9921  2023          SEP          U.S. Border Patrol  Southwest Border   \n",
       "9922  2023          SEP          U.S. Border Patrol  Southwest Border   \n",
       "9923  2023          SEP          U.S. Border Patrol  Southwest Border   \n",
       "\n",
       "     Land Filter  Area of Responsibility            Drug Type  Count of Event  \\\n",
       "0          Other    ATLANTA FIELD OFFICE        Other Drugs**               2   \n",
       "1          Other  BALTIMORE FIELD OFFICE             Ketamine               1   \n",
       "2          Other  BALTIMORE FIELD OFFICE  Khat (Catha Edulis)               2   \n",
       "3          Other  BALTIMORE FIELD OFFICE        Other Drugs**              13   \n",
       "4          Other    CHICAGO FIELD OFFICE              Cocaine               7   \n",
       "...          ...                     ...                  ...             ...   \n",
       "9919   Land Only           TUCSON SECTOR        Other Drugs**               4   \n",
       "9920   Land Only             YUMA SECTOR             Fentanyl               2   \n",
       "9921   Land Only             YUMA SECTOR            Marijuana              11   \n",
       "9922   Land Only             YUMA SECTOR      Methamphetamine               2   \n",
       "9923   Land Only             YUMA SECTOR        Other Drugs**               2   \n",
       "\n",
       "      Sum Qty (lbs)  \n",
       "0          0.330693  \n",
       "1          0.017417  \n",
       "2       1137.497087  \n",
       "3          5.258907  \n",
       "4        125.697881  \n",
       "...             ...  \n",
       "9919       0.222700  \n",
       "9920       4.952400  \n",
       "9921       0.412100  \n",
       "9922      84.452600  \n",
       "9923       1.748300  \n",
       "\n",
       "[9924 rows x 9 columns]"
      ]
     },
     "execution_count": 80,
     "metadata": {},
     "output_type": "execute_result"
    }
   ],
   "source": [
    "data"
   ]
  },
  {
   "cell_type": "code",
   "execution_count": 81,
   "id": "03db17b0",
   "metadata": {},
   "outputs": [],
   "source": [
    "data['datetime'] = pd.to_datetime([f'{y}-{m}-01' for y, m in zip(data['FY'], data['Month (abbv)'])])"
   ]
  },
  {
   "cell_type": "code",
   "execution_count": 82,
   "id": "b42acdd5",
   "metadata": {},
   "outputs": [],
   "source": [
    "data = data.sort_values('datetime').reset_index(drop=True)\n",
    "data = data.set_index(['datetime'])"
   ]
  },
  {
   "cell_type": "code",
   "execution_count": 83,
   "id": "beda19ce",
   "metadata": {},
   "outputs": [],
   "source": [
    "fentanylData = data[data['Drug Type'] == 'Fentanyl']"
   ]
  },
  {
   "cell_type": "code",
   "execution_count": 84,
   "id": "c40ca386",
   "metadata": {},
   "outputs": [
    {
     "data": {
      "text/html": [
       "<div>\n",
       "<style scoped>\n",
       "    .dataframe tbody tr th:only-of-type {\n",
       "        vertical-align: middle;\n",
       "    }\n",
       "\n",
       "    .dataframe tbody tr th {\n",
       "        vertical-align: top;\n",
       "    }\n",
       "\n",
       "    .dataframe thead th {\n",
       "        text-align: right;\n",
       "    }\n",
       "</style>\n",
       "<table border=\"1\" class=\"dataframe\">\n",
       "  <thead>\n",
       "    <tr style=\"text-align: right;\">\n",
       "      <th></th>\n",
       "      <th>FY</th>\n",
       "      <th>Month (abbv)</th>\n",
       "      <th>Component</th>\n",
       "      <th>Region</th>\n",
       "      <th>Land Filter</th>\n",
       "      <th>Area of Responsibility</th>\n",
       "      <th>Drug Type</th>\n",
       "      <th>Count of Event</th>\n",
       "      <th>Sum Qty (lbs)</th>\n",
       "    </tr>\n",
       "    <tr>\n",
       "      <th>datetime</th>\n",
       "      <th></th>\n",
       "      <th></th>\n",
       "      <th></th>\n",
       "      <th></th>\n",
       "      <th></th>\n",
       "      <th></th>\n",
       "      <th></th>\n",
       "      <th></th>\n",
       "      <th></th>\n",
       "    </tr>\n",
       "  </thead>\n",
       "  <tbody>\n",
       "    <tr>\n",
       "      <th>2020-01-01</th>\n",
       "      <td>2020</td>\n",
       "      <td>JAN</td>\n",
       "      <td>Office of Field Operations</td>\n",
       "      <td>Northern Border</td>\n",
       "      <td>Other</td>\n",
       "      <td>DETROIT FIELD OFFICE</td>\n",
       "      <td>Fentanyl</td>\n",
       "      <td>1</td>\n",
       "      <td>2.579408</td>\n",
       "    </tr>\n",
       "    <tr>\n",
       "      <th>2020-01-01</th>\n",
       "      <td>2020</td>\n",
       "      <td>JAN</td>\n",
       "      <td>Office of Field Operations</td>\n",
       "      <td>Coastal/Interior</td>\n",
       "      <td>Other</td>\n",
       "      <td>CHICAGO FIELD OFFICE</td>\n",
       "      <td>Fentanyl</td>\n",
       "      <td>8</td>\n",
       "      <td>3.905930</td>\n",
       "    </tr>\n",
       "    <tr>\n",
       "      <th>2020-01-01</th>\n",
       "      <td>2020</td>\n",
       "      <td>JAN</td>\n",
       "      <td>Office of Field Operations</td>\n",
       "      <td>Coastal/Interior</td>\n",
       "      <td>Other</td>\n",
       "      <td>MIAMI FIELD OFFICE</td>\n",
       "      <td>Fentanyl</td>\n",
       "      <td>3</td>\n",
       "      <td>0.006614</td>\n",
       "    </tr>\n",
       "    <tr>\n",
       "      <th>2020-01-01</th>\n",
       "      <td>2020</td>\n",
       "      <td>JAN</td>\n",
       "      <td>U.S. Border Patrol</td>\n",
       "      <td>Southwest Border</td>\n",
       "      <td>Land Only</td>\n",
       "      <td>EL CENTRO SECTOR</td>\n",
       "      <td>Fentanyl</td>\n",
       "      <td>1</td>\n",
       "      <td>0.753000</td>\n",
       "    </tr>\n",
       "    <tr>\n",
       "      <th>2020-01-01</th>\n",
       "      <td>2020</td>\n",
       "      <td>JAN</td>\n",
       "      <td>U.S. Border Patrol</td>\n",
       "      <td>Southwest Border</td>\n",
       "      <td>Land Only</td>\n",
       "      <td>YUMA SECTOR</td>\n",
       "      <td>Fentanyl</td>\n",
       "      <td>2</td>\n",
       "      <td>3.159000</td>\n",
       "    </tr>\n",
       "    <tr>\n",
       "      <th>...</th>\n",
       "      <td>...</td>\n",
       "      <td>...</td>\n",
       "      <td>...</td>\n",
       "      <td>...</td>\n",
       "      <td>...</td>\n",
       "      <td>...</td>\n",
       "      <td>...</td>\n",
       "      <td>...</td>\n",
       "      <td>...</td>\n",
       "    </tr>\n",
       "    <tr>\n",
       "      <th>2023-12-01</th>\n",
       "      <td>2023</td>\n",
       "      <td>DEC</td>\n",
       "      <td>U.S. Border Patrol</td>\n",
       "      <td>Southwest Border</td>\n",
       "      <td>Land Only</td>\n",
       "      <td>SAN DIEGO SECTOR</td>\n",
       "      <td>Fentanyl</td>\n",
       "      <td>1</td>\n",
       "      <td>1.322800</td>\n",
       "    </tr>\n",
       "    <tr>\n",
       "      <th>2023-12-01</th>\n",
       "      <td>2023</td>\n",
       "      <td>DEC</td>\n",
       "      <td>Office of Field Operations</td>\n",
       "      <td>Southwest Border</td>\n",
       "      <td>Land Only</td>\n",
       "      <td>LAREDO FIELD OFFICE</td>\n",
       "      <td>Fentanyl</td>\n",
       "      <td>2</td>\n",
       "      <td>7.407532</td>\n",
       "    </tr>\n",
       "    <tr>\n",
       "      <th>2023-12-01</th>\n",
       "      <td>2023</td>\n",
       "      <td>DEC</td>\n",
       "      <td>Office of Field Operations</td>\n",
       "      <td>Southwest Border</td>\n",
       "      <td>Land Only</td>\n",
       "      <td>EL PASO FIELD OFFICE</td>\n",
       "      <td>Fentanyl</td>\n",
       "      <td>5</td>\n",
       "      <td>45.136099</td>\n",
       "    </tr>\n",
       "    <tr>\n",
       "      <th>2023-12-01</th>\n",
       "      <td>2023</td>\n",
       "      <td>DEC</td>\n",
       "      <td>Office of Field Operations</td>\n",
       "      <td>Southwest Border</td>\n",
       "      <td>Land Only</td>\n",
       "      <td>TUCSON FIELD OFFICE</td>\n",
       "      <td>Fentanyl</td>\n",
       "      <td>34</td>\n",
       "      <td>1762.056314</td>\n",
       "    </tr>\n",
       "    <tr>\n",
       "      <th>2023-12-01</th>\n",
       "      <td>2023</td>\n",
       "      <td>DEC</td>\n",
       "      <td>Office of Field Operations</td>\n",
       "      <td>Southwest Border</td>\n",
       "      <td>Land Only</td>\n",
       "      <td>SAN DIEGO FIELD OFFICE</td>\n",
       "      <td>Fentanyl</td>\n",
       "      <td>44</td>\n",
       "      <td>589.856262</td>\n",
       "    </tr>\n",
       "  </tbody>\n",
       "</table>\n",
       "<p>786 rows × 9 columns</p>\n",
       "</div>"
      ],
      "text/plain": [
       "              FY Month (abbv)                   Component            Region  \\\n",
       "datetime                                                                      \n",
       "2020-01-01  2020          JAN  Office of Field Operations   Northern Border   \n",
       "2020-01-01  2020          JAN  Office of Field Operations  Coastal/Interior   \n",
       "2020-01-01  2020          JAN  Office of Field Operations  Coastal/Interior   \n",
       "2020-01-01  2020          JAN          U.S. Border Patrol  Southwest Border   \n",
       "2020-01-01  2020          JAN          U.S. Border Patrol  Southwest Border   \n",
       "...          ...          ...                         ...               ...   \n",
       "2023-12-01  2023          DEC          U.S. Border Patrol  Southwest Border   \n",
       "2023-12-01  2023          DEC  Office of Field Operations  Southwest Border   \n",
       "2023-12-01  2023          DEC  Office of Field Operations  Southwest Border   \n",
       "2023-12-01  2023          DEC  Office of Field Operations  Southwest Border   \n",
       "2023-12-01  2023          DEC  Office of Field Operations  Southwest Border   \n",
       "\n",
       "           Land Filter  Area of Responsibility Drug Type  Count of Event  \\\n",
       "datetime                                                                   \n",
       "2020-01-01       Other    DETROIT FIELD OFFICE  Fentanyl               1   \n",
       "2020-01-01       Other    CHICAGO FIELD OFFICE  Fentanyl               8   \n",
       "2020-01-01       Other      MIAMI FIELD OFFICE  Fentanyl               3   \n",
       "2020-01-01   Land Only        EL CENTRO SECTOR  Fentanyl               1   \n",
       "2020-01-01   Land Only             YUMA SECTOR  Fentanyl               2   \n",
       "...                ...                     ...       ...             ...   \n",
       "2023-12-01   Land Only        SAN DIEGO SECTOR  Fentanyl               1   \n",
       "2023-12-01   Land Only     LAREDO FIELD OFFICE  Fentanyl               2   \n",
       "2023-12-01   Land Only    EL PASO FIELD OFFICE  Fentanyl               5   \n",
       "2023-12-01   Land Only     TUCSON FIELD OFFICE  Fentanyl              34   \n",
       "2023-12-01   Land Only  SAN DIEGO FIELD OFFICE  Fentanyl              44   \n",
       "\n",
       "            Sum Qty (lbs)  \n",
       "datetime                   \n",
       "2020-01-01       2.579408  \n",
       "2020-01-01       3.905930  \n",
       "2020-01-01       0.006614  \n",
       "2020-01-01       0.753000  \n",
       "2020-01-01       3.159000  \n",
       "...                   ...  \n",
       "2023-12-01       1.322800  \n",
       "2023-12-01       7.407532  \n",
       "2023-12-01      45.136099  \n",
       "2023-12-01    1762.056314  \n",
       "2023-12-01     589.856262  \n",
       "\n",
       "[786 rows x 9 columns]"
      ]
     },
     "execution_count": 84,
     "metadata": {},
     "output_type": "execute_result"
    }
   ],
   "source": [
    "fentanylData"
   ]
  },
  {
   "cell_type": "code",
   "execution_count": 151,
   "id": "7bb772af",
   "metadata": {},
   "outputs": [],
   "source": [
    "fenD = fentanylData[fentanylData['Land Filter'] == 'Land Only']"
   ]
  },
  {
   "cell_type": "code",
   "execution_count": 152,
   "id": "8f1b82c0",
   "metadata": {},
   "outputs": [],
   "source": [
    "fenD1 = fentanylData[fentanylData['Area of Responsibility'] == 'SAN DIEGO SECTOR']"
   ]
  },
  {
   "cell_type": "code",
   "execution_count": 153,
   "id": "48ec0111",
   "metadata": {},
   "outputs": [
    {
     "data": {
      "text/plain": [
       "Index(['FY', 'Month (abbv)', 'Component', 'Region', 'Land Filter',\n",
       "       'Area of Responsibility', 'Drug Type', 'Count of Event',\n",
       "       'Sum Qty (lbs)'],\n",
       "      dtype='object')"
      ]
     },
     "execution_count": 153,
     "metadata": {},
     "output_type": "execute_result"
    }
   ],
   "source": [
    "fenD1.columns"
   ]
  },
  {
   "cell_type": "code",
   "execution_count": 158,
   "id": "dff4fd81",
   "metadata": {},
   "outputs": [
    {
     "data": {
      "text/html": [
       "<div>\n",
       "<style scoped>\n",
       "    .dataframe tbody tr th:only-of-type {\n",
       "        vertical-align: middle;\n",
       "    }\n",
       "\n",
       "    .dataframe tbody tr th {\n",
       "        vertical-align: top;\n",
       "    }\n",
       "\n",
       "    .dataframe thead th {\n",
       "        text-align: right;\n",
       "    }\n",
       "</style>\n",
       "<table border=\"1\" class=\"dataframe\">\n",
       "  <thead>\n",
       "    <tr style=\"text-align: right;\">\n",
       "      <th></th>\n",
       "      <th>FY</th>\n",
       "      <th>Month (abbv)</th>\n",
       "      <th>Component</th>\n",
       "      <th>Region</th>\n",
       "      <th>Land Filter</th>\n",
       "      <th>Area of Responsibility</th>\n",
       "      <th>Drug Type</th>\n",
       "      <th>Count of Event</th>\n",
       "      <th>Sum Qty (lbs)</th>\n",
       "    </tr>\n",
       "    <tr>\n",
       "      <th>datetime</th>\n",
       "      <th></th>\n",
       "      <th></th>\n",
       "      <th></th>\n",
       "      <th></th>\n",
       "      <th></th>\n",
       "      <th></th>\n",
       "      <th></th>\n",
       "      <th></th>\n",
       "      <th></th>\n",
       "    </tr>\n",
       "  </thead>\n",
       "  <tbody>\n",
       "    <tr>\n",
       "      <th>2020-01-01</th>\n",
       "      <td>2020</td>\n",
       "      <td>JAN</td>\n",
       "      <td>U.S. Border Patrol</td>\n",
       "      <td>Southwest Border</td>\n",
       "      <td>Land Only</td>\n",
       "      <td>SAN DIEGO SECTOR</td>\n",
       "      <td>Fentanyl</td>\n",
       "      <td>2</td>\n",
       "      <td>39.5726</td>\n",
       "    </tr>\n",
       "    <tr>\n",
       "      <th>2020-02-01</th>\n",
       "      <td>2020</td>\n",
       "      <td>FEB</td>\n",
       "      <td>U.S. Border Patrol</td>\n",
       "      <td>Southwest Border</td>\n",
       "      <td>Land Only</td>\n",
       "      <td>SAN DIEGO SECTOR</td>\n",
       "      <td>Fentanyl</td>\n",
       "      <td>2</td>\n",
       "      <td>5.5106</td>\n",
       "    </tr>\n",
       "    <tr>\n",
       "      <th>2020-03-01</th>\n",
       "      <td>2020</td>\n",
       "      <td>MAR</td>\n",
       "      <td>U.S. Border Patrol</td>\n",
       "      <td>Southwest Border</td>\n",
       "      <td>Land Only</td>\n",
       "      <td>SAN DIEGO SECTOR</td>\n",
       "      <td>Fentanyl</td>\n",
       "      <td>2</td>\n",
       "      <td>15.2558</td>\n",
       "    </tr>\n",
       "    <tr>\n",
       "      <th>2020-04-01</th>\n",
       "      <td>2020</td>\n",
       "      <td>APR</td>\n",
       "      <td>U.S. Border Patrol</td>\n",
       "      <td>Southwest Border</td>\n",
       "      <td>Land Only</td>\n",
       "      <td>SAN DIEGO SECTOR</td>\n",
       "      <td>Fentanyl</td>\n",
       "      <td>1</td>\n",
       "      <td>0.5503</td>\n",
       "    </tr>\n",
       "    <tr>\n",
       "      <th>2020-05-01</th>\n",
       "      <td>2020</td>\n",
       "      <td>MAY</td>\n",
       "      <td>U.S. Border Patrol</td>\n",
       "      <td>Southwest Border</td>\n",
       "      <td>Land Only</td>\n",
       "      <td>SAN DIEGO SECTOR</td>\n",
       "      <td>Fentanyl</td>\n",
       "      <td>2</td>\n",
       "      <td>0.5644</td>\n",
       "    </tr>\n",
       "    <tr>\n",
       "      <th>2020-06-01</th>\n",
       "      <td>2020</td>\n",
       "      <td>JUN</td>\n",
       "      <td>U.S. Border Patrol</td>\n",
       "      <td>Southwest Border</td>\n",
       "      <td>Land Only</td>\n",
       "      <td>SAN DIEGO SECTOR</td>\n",
       "      <td>Fentanyl</td>\n",
       "      <td>4</td>\n",
       "      <td>26.4050</td>\n",
       "    </tr>\n",
       "    <tr>\n",
       "      <th>2020-07-01</th>\n",
       "      <td>2020</td>\n",
       "      <td>JUL</td>\n",
       "      <td>U.S. Border Patrol</td>\n",
       "      <td>Southwest Border</td>\n",
       "      <td>Land Only</td>\n",
       "      <td>SAN DIEGO SECTOR</td>\n",
       "      <td>Fentanyl</td>\n",
       "      <td>4</td>\n",
       "      <td>23.3038</td>\n",
       "    </tr>\n",
       "    <tr>\n",
       "      <th>2020-08-01</th>\n",
       "      <td>2020</td>\n",
       "      <td>AUG</td>\n",
       "      <td>U.S. Border Patrol</td>\n",
       "      <td>Southwest Border</td>\n",
       "      <td>Land Only</td>\n",
       "      <td>SAN DIEGO SECTOR</td>\n",
       "      <td>Fentanyl</td>\n",
       "      <td>3</td>\n",
       "      <td>223.8742</td>\n",
       "    </tr>\n",
       "    <tr>\n",
       "      <th>2020-09-01</th>\n",
       "      <td>2020</td>\n",
       "      <td>SEP</td>\n",
       "      <td>U.S. Border Patrol</td>\n",
       "      <td>Southwest Border</td>\n",
       "      <td>Land Only</td>\n",
       "      <td>SAN DIEGO SECTOR</td>\n",
       "      <td>Fentanyl</td>\n",
       "      <td>3</td>\n",
       "      <td>0.2099</td>\n",
       "    </tr>\n",
       "    <tr>\n",
       "      <th>2020-10-01</th>\n",
       "      <td>2020</td>\n",
       "      <td>OCT</td>\n",
       "      <td>U.S. Border Patrol</td>\n",
       "      <td>Southwest Border</td>\n",
       "      <td>Land Only</td>\n",
       "      <td>SAN DIEGO SECTOR</td>\n",
       "      <td>Fentanyl</td>\n",
       "      <td>3</td>\n",
       "      <td>23.0624</td>\n",
       "    </tr>\n",
       "    <tr>\n",
       "      <th>2020-11-01</th>\n",
       "      <td>2020</td>\n",
       "      <td>NOV</td>\n",
       "      <td>U.S. Border Patrol</td>\n",
       "      <td>Southwest Border</td>\n",
       "      <td>Land Only</td>\n",
       "      <td>SAN DIEGO SECTOR</td>\n",
       "      <td>Fentanyl</td>\n",
       "      <td>1</td>\n",
       "      <td>24.6915</td>\n",
       "    </tr>\n",
       "    <tr>\n",
       "      <th>2021-01-01</th>\n",
       "      <td>2021</td>\n",
       "      <td>JAN</td>\n",
       "      <td>U.S. Border Patrol</td>\n",
       "      <td>Southwest Border</td>\n",
       "      <td>Land Only</td>\n",
       "      <td>SAN DIEGO SECTOR</td>\n",
       "      <td>Fentanyl</td>\n",
       "      <td>5</td>\n",
       "      <td>169.4903</td>\n",
       "    </tr>\n",
       "    <tr>\n",
       "      <th>2021-02-01</th>\n",
       "      <td>2021</td>\n",
       "      <td>FEB</td>\n",
       "      <td>U.S. Border Patrol</td>\n",
       "      <td>Southwest Border</td>\n",
       "      <td>Land Only</td>\n",
       "      <td>SAN DIEGO SECTOR</td>\n",
       "      <td>Fentanyl</td>\n",
       "      <td>1</td>\n",
       "      <td>5.2469</td>\n",
       "    </tr>\n",
       "    <tr>\n",
       "      <th>2021-03-01</th>\n",
       "      <td>2021</td>\n",
       "      <td>MAR</td>\n",
       "      <td>U.S. Border Patrol</td>\n",
       "      <td>Southwest Border</td>\n",
       "      <td>Land Only</td>\n",
       "      <td>SAN DIEGO SECTOR</td>\n",
       "      <td>Fentanyl</td>\n",
       "      <td>2</td>\n",
       "      <td>2.5697</td>\n",
       "    </tr>\n",
       "    <tr>\n",
       "      <th>2021-04-01</th>\n",
       "      <td>2021</td>\n",
       "      <td>APR</td>\n",
       "      <td>U.S. Border Patrol</td>\n",
       "      <td>Southwest Border</td>\n",
       "      <td>Land Only</td>\n",
       "      <td>SAN DIEGO SECTOR</td>\n",
       "      <td>Fentanyl</td>\n",
       "      <td>3</td>\n",
       "      <td>35.1017</td>\n",
       "    </tr>\n",
       "    <tr>\n",
       "      <th>2021-05-01</th>\n",
       "      <td>2021</td>\n",
       "      <td>MAY</td>\n",
       "      <td>U.S. Border Patrol</td>\n",
       "      <td>Southwest Border</td>\n",
       "      <td>Land Only</td>\n",
       "      <td>SAN DIEGO SECTOR</td>\n",
       "      <td>Fentanyl</td>\n",
       "      <td>5</td>\n",
       "      <td>8.1964</td>\n",
       "    </tr>\n",
       "    <tr>\n",
       "      <th>2021-06-01</th>\n",
       "      <td>2021</td>\n",
       "      <td>JUN</td>\n",
       "      <td>U.S. Border Patrol</td>\n",
       "      <td>Southwest Border</td>\n",
       "      <td>Land Only</td>\n",
       "      <td>SAN DIEGO SECTOR</td>\n",
       "      <td>Fentanyl</td>\n",
       "      <td>5</td>\n",
       "      <td>20.7363</td>\n",
       "    </tr>\n",
       "    <tr>\n",
       "      <th>2021-07-01</th>\n",
       "      <td>2021</td>\n",
       "      <td>JUL</td>\n",
       "      <td>U.S. Border Patrol</td>\n",
       "      <td>Southwest Border</td>\n",
       "      <td>Land Only</td>\n",
       "      <td>SAN DIEGO SECTOR</td>\n",
       "      <td>Fentanyl</td>\n",
       "      <td>5</td>\n",
       "      <td>31.6651</td>\n",
       "    </tr>\n",
       "    <tr>\n",
       "      <th>2021-08-01</th>\n",
       "      <td>2021</td>\n",
       "      <td>AUG</td>\n",
       "      <td>U.S. Border Patrol</td>\n",
       "      <td>Southwest Border</td>\n",
       "      <td>Land Only</td>\n",
       "      <td>SAN DIEGO SECTOR</td>\n",
       "      <td>Fentanyl</td>\n",
       "      <td>3</td>\n",
       "      <td>12.2375</td>\n",
       "    </tr>\n",
       "    <tr>\n",
       "      <th>2021-09-01</th>\n",
       "      <td>2021</td>\n",
       "      <td>SEP</td>\n",
       "      <td>U.S. Border Patrol</td>\n",
       "      <td>Southwest Border</td>\n",
       "      <td>Land Only</td>\n",
       "      <td>SAN DIEGO SECTOR</td>\n",
       "      <td>Fentanyl</td>\n",
       "      <td>8</td>\n",
       "      <td>32.7358</td>\n",
       "    </tr>\n",
       "    <tr>\n",
       "      <th>2021-10-01</th>\n",
       "      <td>2021</td>\n",
       "      <td>OCT</td>\n",
       "      <td>U.S. Border Patrol</td>\n",
       "      <td>Southwest Border</td>\n",
       "      <td>Land Only</td>\n",
       "      <td>SAN DIEGO SECTOR</td>\n",
       "      <td>Fentanyl</td>\n",
       "      <td>8</td>\n",
       "      <td>77.0782</td>\n",
       "    </tr>\n",
       "    <tr>\n",
       "      <th>2021-11-01</th>\n",
       "      <td>2021</td>\n",
       "      <td>NOV</td>\n",
       "      <td>U.S. Border Patrol</td>\n",
       "      <td>Southwest Border</td>\n",
       "      <td>Land Only</td>\n",
       "      <td>SAN DIEGO SECTOR</td>\n",
       "      <td>Fentanyl</td>\n",
       "      <td>4</td>\n",
       "      <td>15.5693</td>\n",
       "    </tr>\n",
       "    <tr>\n",
       "      <th>2021-12-01</th>\n",
       "      <td>2021</td>\n",
       "      <td>DEC</td>\n",
       "      <td>U.S. Border Patrol</td>\n",
       "      <td>Southwest Border</td>\n",
       "      <td>Land Only</td>\n",
       "      <td>SAN DIEGO SECTOR</td>\n",
       "      <td>Fentanyl</td>\n",
       "      <td>1</td>\n",
       "      <td>2.5000</td>\n",
       "    </tr>\n",
       "    <tr>\n",
       "      <th>2022-01-01</th>\n",
       "      <td>2022</td>\n",
       "      <td>JAN</td>\n",
       "      <td>U.S. Border Patrol</td>\n",
       "      <td>Southwest Border</td>\n",
       "      <td>Land Only</td>\n",
       "      <td>SAN DIEGO SECTOR</td>\n",
       "      <td>Fentanyl</td>\n",
       "      <td>2</td>\n",
       "      <td>0.0410</td>\n",
       "    </tr>\n",
       "    <tr>\n",
       "      <th>2022-02-01</th>\n",
       "      <td>2022</td>\n",
       "      <td>FEB</td>\n",
       "      <td>U.S. Border Patrol</td>\n",
       "      <td>Southwest Border</td>\n",
       "      <td>Land Only</td>\n",
       "      <td>SAN DIEGO SECTOR</td>\n",
       "      <td>Fentanyl</td>\n",
       "      <td>8</td>\n",
       "      <td>64.4167</td>\n",
       "    </tr>\n",
       "    <tr>\n",
       "      <th>2022-03-01</th>\n",
       "      <td>2022</td>\n",
       "      <td>MAR</td>\n",
       "      <td>U.S. Border Patrol</td>\n",
       "      <td>Southwest Border</td>\n",
       "      <td>Land Only</td>\n",
       "      <td>SAN DIEGO SECTOR</td>\n",
       "      <td>Fentanyl</td>\n",
       "      <td>5</td>\n",
       "      <td>116.1083</td>\n",
       "    </tr>\n",
       "    <tr>\n",
       "      <th>2022-04-01</th>\n",
       "      <td>2022</td>\n",
       "      <td>APR</td>\n",
       "      <td>U.S. Border Patrol</td>\n",
       "      <td>Southwest Border</td>\n",
       "      <td>Land Only</td>\n",
       "      <td>SAN DIEGO SECTOR</td>\n",
       "      <td>Fentanyl</td>\n",
       "      <td>10</td>\n",
       "      <td>106.0676</td>\n",
       "    </tr>\n",
       "    <tr>\n",
       "      <th>2022-05-01</th>\n",
       "      <td>2022</td>\n",
       "      <td>MAY</td>\n",
       "      <td>U.S. Border Patrol</td>\n",
       "      <td>Southwest Border</td>\n",
       "      <td>Land Only</td>\n",
       "      <td>SAN DIEGO SECTOR</td>\n",
       "      <td>Fentanyl</td>\n",
       "      <td>5</td>\n",
       "      <td>150.5765</td>\n",
       "    </tr>\n",
       "    <tr>\n",
       "      <th>2022-06-01</th>\n",
       "      <td>2022</td>\n",
       "      <td>JUN</td>\n",
       "      <td>U.S. Border Patrol</td>\n",
       "      <td>Southwest Border</td>\n",
       "      <td>Land Only</td>\n",
       "      <td>SAN DIEGO SECTOR</td>\n",
       "      <td>Fentanyl</td>\n",
       "      <td>4</td>\n",
       "      <td>42.5085</td>\n",
       "    </tr>\n",
       "    <tr>\n",
       "      <th>2022-07-01</th>\n",
       "      <td>2022</td>\n",
       "      <td>JUL</td>\n",
       "      <td>U.S. Border Patrol</td>\n",
       "      <td>Southwest Border</td>\n",
       "      <td>Land Only</td>\n",
       "      <td>SAN DIEGO SECTOR</td>\n",
       "      <td>Fentanyl</td>\n",
       "      <td>6</td>\n",
       "      <td>303.2685</td>\n",
       "    </tr>\n",
       "    <tr>\n",
       "      <th>2022-08-01</th>\n",
       "      <td>2022</td>\n",
       "      <td>AUG</td>\n",
       "      <td>U.S. Border Patrol</td>\n",
       "      <td>Southwest Border</td>\n",
       "      <td>Land Only</td>\n",
       "      <td>SAN DIEGO SECTOR</td>\n",
       "      <td>Fentanyl</td>\n",
       "      <td>12</td>\n",
       "      <td>135.9233</td>\n",
       "    </tr>\n",
       "    <tr>\n",
       "      <th>2022-10-01</th>\n",
       "      <td>2022</td>\n",
       "      <td>OCT</td>\n",
       "      <td>U.S. Border Patrol</td>\n",
       "      <td>Southwest Border</td>\n",
       "      <td>Land Only</td>\n",
       "      <td>SAN DIEGO SECTOR</td>\n",
       "      <td>Fentanyl</td>\n",
       "      <td>4</td>\n",
       "      <td>77.8132</td>\n",
       "    </tr>\n",
       "    <tr>\n",
       "      <th>2022-11-01</th>\n",
       "      <td>2022</td>\n",
       "      <td>NOV</td>\n",
       "      <td>U.S. Border Patrol</td>\n",
       "      <td>Southwest Border</td>\n",
       "      <td>Land Only</td>\n",
       "      <td>SAN DIEGO SECTOR</td>\n",
       "      <td>Fentanyl</td>\n",
       "      <td>6</td>\n",
       "      <td>30.3401</td>\n",
       "    </tr>\n",
       "    <tr>\n",
       "      <th>2022-12-01</th>\n",
       "      <td>2022</td>\n",
       "      <td>DEC</td>\n",
       "      <td>U.S. Border Patrol</td>\n",
       "      <td>Southwest Border</td>\n",
       "      <td>Land Only</td>\n",
       "      <td>SAN DIEGO SECTOR</td>\n",
       "      <td>Fentanyl</td>\n",
       "      <td>1</td>\n",
       "      <td>24.7621</td>\n",
       "    </tr>\n",
       "    <tr>\n",
       "      <th>2023-01-01</th>\n",
       "      <td>2023</td>\n",
       "      <td>JAN</td>\n",
       "      <td>U.S. Border Patrol</td>\n",
       "      <td>Southwest Border</td>\n",
       "      <td>Land Only</td>\n",
       "      <td>SAN DIEGO SECTOR</td>\n",
       "      <td>Fentanyl</td>\n",
       "      <td>4</td>\n",
       "      <td>260.5375</td>\n",
       "    </tr>\n",
       "    <tr>\n",
       "      <th>2023-02-01</th>\n",
       "      <td>2023</td>\n",
       "      <td>FEB</td>\n",
       "      <td>U.S. Border Patrol</td>\n",
       "      <td>Southwest Border</td>\n",
       "      <td>Land Only</td>\n",
       "      <td>SAN DIEGO SECTOR</td>\n",
       "      <td>Fentanyl</td>\n",
       "      <td>5</td>\n",
       "      <td>259.5967</td>\n",
       "    </tr>\n",
       "    <tr>\n",
       "      <th>2023-03-01</th>\n",
       "      <td>2023</td>\n",
       "      <td>MAR</td>\n",
       "      <td>U.S. Border Patrol</td>\n",
       "      <td>Southwest Border</td>\n",
       "      <td>Land Only</td>\n",
       "      <td>SAN DIEGO SECTOR</td>\n",
       "      <td>Fentanyl</td>\n",
       "      <td>8</td>\n",
       "      <td>233.8198</td>\n",
       "    </tr>\n",
       "    <tr>\n",
       "      <th>2023-04-01</th>\n",
       "      <td>2023</td>\n",
       "      <td>APR</td>\n",
       "      <td>U.S. Border Patrol</td>\n",
       "      <td>Southwest Border</td>\n",
       "      <td>Land Only</td>\n",
       "      <td>SAN DIEGO SECTOR</td>\n",
       "      <td>Fentanyl</td>\n",
       "      <td>2</td>\n",
       "      <td>49.5001</td>\n",
       "    </tr>\n",
       "    <tr>\n",
       "      <th>2023-05-01</th>\n",
       "      <td>2023</td>\n",
       "      <td>MAY</td>\n",
       "      <td>U.S. Border Patrol</td>\n",
       "      <td>Southwest Border</td>\n",
       "      <td>Land Only</td>\n",
       "      <td>SAN DIEGO SECTOR</td>\n",
       "      <td>Fentanyl</td>\n",
       "      <td>6</td>\n",
       "      <td>232.4737</td>\n",
       "    </tr>\n",
       "    <tr>\n",
       "      <th>2023-06-01</th>\n",
       "      <td>2023</td>\n",
       "      <td>JUN</td>\n",
       "      <td>U.S. Border Patrol</td>\n",
       "      <td>Southwest Border</td>\n",
       "      <td>Land Only</td>\n",
       "      <td>SAN DIEGO SECTOR</td>\n",
       "      <td>Fentanyl</td>\n",
       "      <td>3</td>\n",
       "      <td>57.9810</td>\n",
       "    </tr>\n",
       "    <tr>\n",
       "      <th>2023-07-01</th>\n",
       "      <td>2023</td>\n",
       "      <td>JUL</td>\n",
       "      <td>U.S. Border Patrol</td>\n",
       "      <td>Southwest Border</td>\n",
       "      <td>Land Only</td>\n",
       "      <td>SAN DIEGO SECTOR</td>\n",
       "      <td>Fentanyl</td>\n",
       "      <td>4</td>\n",
       "      <td>44.7401</td>\n",
       "    </tr>\n",
       "    <tr>\n",
       "      <th>2023-08-01</th>\n",
       "      <td>2023</td>\n",
       "      <td>AUG</td>\n",
       "      <td>U.S. Border Patrol</td>\n",
       "      <td>Southwest Border</td>\n",
       "      <td>Land Only</td>\n",
       "      <td>SAN DIEGO SECTOR</td>\n",
       "      <td>Fentanyl</td>\n",
       "      <td>5</td>\n",
       "      <td>60.4722</td>\n",
       "    </tr>\n",
       "    <tr>\n",
       "      <th>2023-09-01</th>\n",
       "      <td>2023</td>\n",
       "      <td>SEP</td>\n",
       "      <td>U.S. Border Patrol</td>\n",
       "      <td>Southwest Border</td>\n",
       "      <td>Land Only</td>\n",
       "      <td>SAN DIEGO SECTOR</td>\n",
       "      <td>Fentanyl</td>\n",
       "      <td>2</td>\n",
       "      <td>23.5936</td>\n",
       "    </tr>\n",
       "    <tr>\n",
       "      <th>2023-10-01</th>\n",
       "      <td>2023</td>\n",
       "      <td>OCT</td>\n",
       "      <td>U.S. Border Patrol</td>\n",
       "      <td>Southwest Border</td>\n",
       "      <td>Land Only</td>\n",
       "      <td>SAN DIEGO SECTOR</td>\n",
       "      <td>Fentanyl</td>\n",
       "      <td>4</td>\n",
       "      <td>61.4422</td>\n",
       "    </tr>\n",
       "    <tr>\n",
       "      <th>2023-12-01</th>\n",
       "      <td>2023</td>\n",
       "      <td>DEC</td>\n",
       "      <td>U.S. Border Patrol</td>\n",
       "      <td>Southwest Border</td>\n",
       "      <td>Land Only</td>\n",
       "      <td>SAN DIEGO SECTOR</td>\n",
       "      <td>Fentanyl</td>\n",
       "      <td>1</td>\n",
       "      <td>1.3228</td>\n",
       "    </tr>\n",
       "  </tbody>\n",
       "</table>\n",
       "</div>"
      ],
      "text/plain": [
       "              FY Month (abbv)           Component            Region  \\\n",
       "datetime                                                              \n",
       "2020-01-01  2020          JAN  U.S. Border Patrol  Southwest Border   \n",
       "2020-02-01  2020          FEB  U.S. Border Patrol  Southwest Border   \n",
       "2020-03-01  2020          MAR  U.S. Border Patrol  Southwest Border   \n",
       "2020-04-01  2020          APR  U.S. Border Patrol  Southwest Border   \n",
       "2020-05-01  2020          MAY  U.S. Border Patrol  Southwest Border   \n",
       "2020-06-01  2020          JUN  U.S. Border Patrol  Southwest Border   \n",
       "2020-07-01  2020          JUL  U.S. Border Patrol  Southwest Border   \n",
       "2020-08-01  2020          AUG  U.S. Border Patrol  Southwest Border   \n",
       "2020-09-01  2020          SEP  U.S. Border Patrol  Southwest Border   \n",
       "2020-10-01  2020          OCT  U.S. Border Patrol  Southwest Border   \n",
       "2020-11-01  2020          NOV  U.S. Border Patrol  Southwest Border   \n",
       "2021-01-01  2021          JAN  U.S. Border Patrol  Southwest Border   \n",
       "2021-02-01  2021          FEB  U.S. Border Patrol  Southwest Border   \n",
       "2021-03-01  2021          MAR  U.S. Border Patrol  Southwest Border   \n",
       "2021-04-01  2021          APR  U.S. Border Patrol  Southwest Border   \n",
       "2021-05-01  2021          MAY  U.S. Border Patrol  Southwest Border   \n",
       "2021-06-01  2021          JUN  U.S. Border Patrol  Southwest Border   \n",
       "2021-07-01  2021          JUL  U.S. Border Patrol  Southwest Border   \n",
       "2021-08-01  2021          AUG  U.S. Border Patrol  Southwest Border   \n",
       "2021-09-01  2021          SEP  U.S. Border Patrol  Southwest Border   \n",
       "2021-10-01  2021          OCT  U.S. Border Patrol  Southwest Border   \n",
       "2021-11-01  2021          NOV  U.S. Border Patrol  Southwest Border   \n",
       "2021-12-01  2021          DEC  U.S. Border Patrol  Southwest Border   \n",
       "2022-01-01  2022          JAN  U.S. Border Patrol  Southwest Border   \n",
       "2022-02-01  2022          FEB  U.S. Border Patrol  Southwest Border   \n",
       "2022-03-01  2022          MAR  U.S. Border Patrol  Southwest Border   \n",
       "2022-04-01  2022          APR  U.S. Border Patrol  Southwest Border   \n",
       "2022-05-01  2022          MAY  U.S. Border Patrol  Southwest Border   \n",
       "2022-06-01  2022          JUN  U.S. Border Patrol  Southwest Border   \n",
       "2022-07-01  2022          JUL  U.S. Border Patrol  Southwest Border   \n",
       "2022-08-01  2022          AUG  U.S. Border Patrol  Southwest Border   \n",
       "2022-10-01  2022          OCT  U.S. Border Patrol  Southwest Border   \n",
       "2022-11-01  2022          NOV  U.S. Border Patrol  Southwest Border   \n",
       "2022-12-01  2022          DEC  U.S. Border Patrol  Southwest Border   \n",
       "2023-01-01  2023          JAN  U.S. Border Patrol  Southwest Border   \n",
       "2023-02-01  2023          FEB  U.S. Border Patrol  Southwest Border   \n",
       "2023-03-01  2023          MAR  U.S. Border Patrol  Southwest Border   \n",
       "2023-04-01  2023          APR  U.S. Border Patrol  Southwest Border   \n",
       "2023-05-01  2023          MAY  U.S. Border Patrol  Southwest Border   \n",
       "2023-06-01  2023          JUN  U.S. Border Patrol  Southwest Border   \n",
       "2023-07-01  2023          JUL  U.S. Border Patrol  Southwest Border   \n",
       "2023-08-01  2023          AUG  U.S. Border Patrol  Southwest Border   \n",
       "2023-09-01  2023          SEP  U.S. Border Patrol  Southwest Border   \n",
       "2023-10-01  2023          OCT  U.S. Border Patrol  Southwest Border   \n",
       "2023-12-01  2023          DEC  U.S. Border Patrol  Southwest Border   \n",
       "\n",
       "           Land Filter Area of Responsibility Drug Type  Count of Event  \\\n",
       "datetime                                                                  \n",
       "2020-01-01   Land Only       SAN DIEGO SECTOR  Fentanyl               2   \n",
       "2020-02-01   Land Only       SAN DIEGO SECTOR  Fentanyl               2   \n",
       "2020-03-01   Land Only       SAN DIEGO SECTOR  Fentanyl               2   \n",
       "2020-04-01   Land Only       SAN DIEGO SECTOR  Fentanyl               1   \n",
       "2020-05-01   Land Only       SAN DIEGO SECTOR  Fentanyl               2   \n",
       "2020-06-01   Land Only       SAN DIEGO SECTOR  Fentanyl               4   \n",
       "2020-07-01   Land Only       SAN DIEGO SECTOR  Fentanyl               4   \n",
       "2020-08-01   Land Only       SAN DIEGO SECTOR  Fentanyl               3   \n",
       "2020-09-01   Land Only       SAN DIEGO SECTOR  Fentanyl               3   \n",
       "2020-10-01   Land Only       SAN DIEGO SECTOR  Fentanyl               3   \n",
       "2020-11-01   Land Only       SAN DIEGO SECTOR  Fentanyl               1   \n",
       "2021-01-01   Land Only       SAN DIEGO SECTOR  Fentanyl               5   \n",
       "2021-02-01   Land Only       SAN DIEGO SECTOR  Fentanyl               1   \n",
       "2021-03-01   Land Only       SAN DIEGO SECTOR  Fentanyl               2   \n",
       "2021-04-01   Land Only       SAN DIEGO SECTOR  Fentanyl               3   \n",
       "2021-05-01   Land Only       SAN DIEGO SECTOR  Fentanyl               5   \n",
       "2021-06-01   Land Only       SAN DIEGO SECTOR  Fentanyl               5   \n",
       "2021-07-01   Land Only       SAN DIEGO SECTOR  Fentanyl               5   \n",
       "2021-08-01   Land Only       SAN DIEGO SECTOR  Fentanyl               3   \n",
       "2021-09-01   Land Only       SAN DIEGO SECTOR  Fentanyl               8   \n",
       "2021-10-01   Land Only       SAN DIEGO SECTOR  Fentanyl               8   \n",
       "2021-11-01   Land Only       SAN DIEGO SECTOR  Fentanyl               4   \n",
       "2021-12-01   Land Only       SAN DIEGO SECTOR  Fentanyl               1   \n",
       "2022-01-01   Land Only       SAN DIEGO SECTOR  Fentanyl               2   \n",
       "2022-02-01   Land Only       SAN DIEGO SECTOR  Fentanyl               8   \n",
       "2022-03-01   Land Only       SAN DIEGO SECTOR  Fentanyl               5   \n",
       "2022-04-01   Land Only       SAN DIEGO SECTOR  Fentanyl              10   \n",
       "2022-05-01   Land Only       SAN DIEGO SECTOR  Fentanyl               5   \n",
       "2022-06-01   Land Only       SAN DIEGO SECTOR  Fentanyl               4   \n",
       "2022-07-01   Land Only       SAN DIEGO SECTOR  Fentanyl               6   \n",
       "2022-08-01   Land Only       SAN DIEGO SECTOR  Fentanyl              12   \n",
       "2022-10-01   Land Only       SAN DIEGO SECTOR  Fentanyl               4   \n",
       "2022-11-01   Land Only       SAN DIEGO SECTOR  Fentanyl               6   \n",
       "2022-12-01   Land Only       SAN DIEGO SECTOR  Fentanyl               1   \n",
       "2023-01-01   Land Only       SAN DIEGO SECTOR  Fentanyl               4   \n",
       "2023-02-01   Land Only       SAN DIEGO SECTOR  Fentanyl               5   \n",
       "2023-03-01   Land Only       SAN DIEGO SECTOR  Fentanyl               8   \n",
       "2023-04-01   Land Only       SAN DIEGO SECTOR  Fentanyl               2   \n",
       "2023-05-01   Land Only       SAN DIEGO SECTOR  Fentanyl               6   \n",
       "2023-06-01   Land Only       SAN DIEGO SECTOR  Fentanyl               3   \n",
       "2023-07-01   Land Only       SAN DIEGO SECTOR  Fentanyl               4   \n",
       "2023-08-01   Land Only       SAN DIEGO SECTOR  Fentanyl               5   \n",
       "2023-09-01   Land Only       SAN DIEGO SECTOR  Fentanyl               2   \n",
       "2023-10-01   Land Only       SAN DIEGO SECTOR  Fentanyl               4   \n",
       "2023-12-01   Land Only       SAN DIEGO SECTOR  Fentanyl               1   \n",
       "\n",
       "            Sum Qty (lbs)  \n",
       "datetime                   \n",
       "2020-01-01        39.5726  \n",
       "2020-02-01         5.5106  \n",
       "2020-03-01        15.2558  \n",
       "2020-04-01         0.5503  \n",
       "2020-05-01         0.5644  \n",
       "2020-06-01        26.4050  \n",
       "2020-07-01        23.3038  \n",
       "2020-08-01       223.8742  \n",
       "2020-09-01         0.2099  \n",
       "2020-10-01        23.0624  \n",
       "2020-11-01        24.6915  \n",
       "2021-01-01       169.4903  \n",
       "2021-02-01         5.2469  \n",
       "2021-03-01         2.5697  \n",
       "2021-04-01        35.1017  \n",
       "2021-05-01         8.1964  \n",
       "2021-06-01        20.7363  \n",
       "2021-07-01        31.6651  \n",
       "2021-08-01        12.2375  \n",
       "2021-09-01        32.7358  \n",
       "2021-10-01        77.0782  \n",
       "2021-11-01        15.5693  \n",
       "2021-12-01         2.5000  \n",
       "2022-01-01         0.0410  \n",
       "2022-02-01        64.4167  \n",
       "2022-03-01       116.1083  \n",
       "2022-04-01       106.0676  \n",
       "2022-05-01       150.5765  \n",
       "2022-06-01        42.5085  \n",
       "2022-07-01       303.2685  \n",
       "2022-08-01       135.9233  \n",
       "2022-10-01        77.8132  \n",
       "2022-11-01        30.3401  \n",
       "2022-12-01        24.7621  \n",
       "2023-01-01       260.5375  \n",
       "2023-02-01       259.5967  \n",
       "2023-03-01       233.8198  \n",
       "2023-04-01        49.5001  \n",
       "2023-05-01       232.4737  \n",
       "2023-06-01        57.9810  \n",
       "2023-07-01        44.7401  \n",
       "2023-08-01        60.4722  \n",
       "2023-09-01        23.5936  \n",
       "2023-10-01        61.4422  \n",
       "2023-12-01         1.3228  "
      ]
     },
     "execution_count": 158,
     "metadata": {},
     "output_type": "execute_result"
    }
   ],
   "source": [
    "fenD1A = fenD1['Sum Qty (lbs)']\n",
    "fenD1"
   ]
  },
  {
   "cell_type": "code",
   "execution_count": 155,
   "id": "402d8bd8",
   "metadata": {},
   "outputs": [
    {
     "data": {
      "application/vnd.plotly.v1+json": {
       "config": {
        "plotlyServerURL": "https://plot.ly"
       },
       "data": [
        {
         "hovertemplate": "Date=%{x}<br>Weight (lbs)=%{y}<extra></extra>",
         "legendgroup": "",
         "line": {
          "color": "#636efa",
          "dash": "solid"
         },
         "marker": {
          "symbol": "circle"
         },
         "mode": "lines",
         "name": "",
         "orientation": "v",
         "showlegend": false,
         "type": "scatter",
         "x": [
          "2020-01-01T00:00:00",
          "2020-02-01T00:00:00",
          "2020-03-01T00:00:00",
          "2020-04-01T00:00:00",
          "2020-05-01T00:00:00",
          "2020-06-01T00:00:00",
          "2020-07-01T00:00:00",
          "2020-08-01T00:00:00",
          "2020-09-01T00:00:00",
          "2020-10-01T00:00:00",
          "2020-11-01T00:00:00",
          "2021-01-01T00:00:00",
          "2021-02-01T00:00:00",
          "2021-03-01T00:00:00",
          "2021-04-01T00:00:00",
          "2021-05-01T00:00:00",
          "2021-06-01T00:00:00",
          "2021-07-01T00:00:00",
          "2021-08-01T00:00:00",
          "2021-09-01T00:00:00",
          "2021-10-01T00:00:00",
          "2021-11-01T00:00:00",
          "2021-12-01T00:00:00",
          "2022-01-01T00:00:00",
          "2022-02-01T00:00:00",
          "2022-03-01T00:00:00",
          "2022-04-01T00:00:00",
          "2022-05-01T00:00:00",
          "2022-06-01T00:00:00",
          "2022-07-01T00:00:00",
          "2022-08-01T00:00:00",
          "2022-10-01T00:00:00",
          "2022-11-01T00:00:00",
          "2022-12-01T00:00:00",
          "2023-01-01T00:00:00",
          "2023-02-01T00:00:00",
          "2023-03-01T00:00:00",
          "2023-04-01T00:00:00",
          "2023-05-01T00:00:00",
          "2023-06-01T00:00:00",
          "2023-07-01T00:00:00",
          "2023-08-01T00:00:00",
          "2023-09-01T00:00:00",
          "2023-10-01T00:00:00",
          "2023-12-01T00:00:00"
         ],
         "xaxis": "x",
         "y": [
          39.5726,
          5.5106,
          15.2558,
          0.5503,
          0.5644,
          26.405,
          23.303800000000003,
          223.8742,
          0.2099,
          23.0624,
          24.6915,
          169.49030000000002,
          5.2469,
          2.5697,
          35.1017,
          8.1964,
          20.7363,
          31.6651,
          12.2375,
          32.7358,
          77.0782,
          15.5693,
          2.5,
          0.041,
          64.41669999999999,
          116.1083,
          106.0676,
          150.57649999999998,
          42.508500000000005,
          303.2685,
          135.9233,
          77.8132,
          30.3401,
          24.7621,
          260.5375,
          259.5967,
          233.8198,
          49.5001,
          232.4737,
          57.981,
          44.7401,
          60.4722,
          23.5936,
          61.4422,
          1.3228
         ],
         "yaxis": "y"
        }
       ],
       "layout": {
        "legend": {
         "tracegroupgap": 0
        },
        "margin": {
         "t": 60
        },
        "template": {
         "data": {
          "bar": [
           {
            "error_x": {
             "color": "#2a3f5f"
            },
            "error_y": {
             "color": "#2a3f5f"
            },
            "marker": {
             "line": {
              "color": "#E5ECF6",
              "width": 0.5
             },
             "pattern": {
              "fillmode": "overlay",
              "size": 10,
              "solidity": 0.2
             }
            },
            "type": "bar"
           }
          ],
          "barpolar": [
           {
            "marker": {
             "line": {
              "color": "#E5ECF6",
              "width": 0.5
             },
             "pattern": {
              "fillmode": "overlay",
              "size": 10,
              "solidity": 0.2
             }
            },
            "type": "barpolar"
           }
          ],
          "carpet": [
           {
            "aaxis": {
             "endlinecolor": "#2a3f5f",
             "gridcolor": "white",
             "linecolor": "white",
             "minorgridcolor": "white",
             "startlinecolor": "#2a3f5f"
            },
            "baxis": {
             "endlinecolor": "#2a3f5f",
             "gridcolor": "white",
             "linecolor": "white",
             "minorgridcolor": "white",
             "startlinecolor": "#2a3f5f"
            },
            "type": "carpet"
           }
          ],
          "choropleth": [
           {
            "colorbar": {
             "outlinewidth": 0,
             "ticks": ""
            },
            "type": "choropleth"
           }
          ],
          "contour": [
           {
            "colorbar": {
             "outlinewidth": 0,
             "ticks": ""
            },
            "colorscale": [
             [
              0,
              "#0d0887"
             ],
             [
              0.1111111111111111,
              "#46039f"
             ],
             [
              0.2222222222222222,
              "#7201a8"
             ],
             [
              0.3333333333333333,
              "#9c179e"
             ],
             [
              0.4444444444444444,
              "#bd3786"
             ],
             [
              0.5555555555555556,
              "#d8576b"
             ],
             [
              0.6666666666666666,
              "#ed7953"
             ],
             [
              0.7777777777777778,
              "#fb9f3a"
             ],
             [
              0.8888888888888888,
              "#fdca26"
             ],
             [
              1,
              "#f0f921"
             ]
            ],
            "type": "contour"
           }
          ],
          "contourcarpet": [
           {
            "colorbar": {
             "outlinewidth": 0,
             "ticks": ""
            },
            "type": "contourcarpet"
           }
          ],
          "heatmap": [
           {
            "colorbar": {
             "outlinewidth": 0,
             "ticks": ""
            },
            "colorscale": [
             [
              0,
              "#0d0887"
             ],
             [
              0.1111111111111111,
              "#46039f"
             ],
             [
              0.2222222222222222,
              "#7201a8"
             ],
             [
              0.3333333333333333,
              "#9c179e"
             ],
             [
              0.4444444444444444,
              "#bd3786"
             ],
             [
              0.5555555555555556,
              "#d8576b"
             ],
             [
              0.6666666666666666,
              "#ed7953"
             ],
             [
              0.7777777777777778,
              "#fb9f3a"
             ],
             [
              0.8888888888888888,
              "#fdca26"
             ],
             [
              1,
              "#f0f921"
             ]
            ],
            "type": "heatmap"
           }
          ],
          "heatmapgl": [
           {
            "colorbar": {
             "outlinewidth": 0,
             "ticks": ""
            },
            "colorscale": [
             [
              0,
              "#0d0887"
             ],
             [
              0.1111111111111111,
              "#46039f"
             ],
             [
              0.2222222222222222,
              "#7201a8"
             ],
             [
              0.3333333333333333,
              "#9c179e"
             ],
             [
              0.4444444444444444,
              "#bd3786"
             ],
             [
              0.5555555555555556,
              "#d8576b"
             ],
             [
              0.6666666666666666,
              "#ed7953"
             ],
             [
              0.7777777777777778,
              "#fb9f3a"
             ],
             [
              0.8888888888888888,
              "#fdca26"
             ],
             [
              1,
              "#f0f921"
             ]
            ],
            "type": "heatmapgl"
           }
          ],
          "histogram": [
           {
            "marker": {
             "pattern": {
              "fillmode": "overlay",
              "size": 10,
              "solidity": 0.2
             }
            },
            "type": "histogram"
           }
          ],
          "histogram2d": [
           {
            "colorbar": {
             "outlinewidth": 0,
             "ticks": ""
            },
            "colorscale": [
             [
              0,
              "#0d0887"
             ],
             [
              0.1111111111111111,
              "#46039f"
             ],
             [
              0.2222222222222222,
              "#7201a8"
             ],
             [
              0.3333333333333333,
              "#9c179e"
             ],
             [
              0.4444444444444444,
              "#bd3786"
             ],
             [
              0.5555555555555556,
              "#d8576b"
             ],
             [
              0.6666666666666666,
              "#ed7953"
             ],
             [
              0.7777777777777778,
              "#fb9f3a"
             ],
             [
              0.8888888888888888,
              "#fdca26"
             ],
             [
              1,
              "#f0f921"
             ]
            ],
            "type": "histogram2d"
           }
          ],
          "histogram2dcontour": [
           {
            "colorbar": {
             "outlinewidth": 0,
             "ticks": ""
            },
            "colorscale": [
             [
              0,
              "#0d0887"
             ],
             [
              0.1111111111111111,
              "#46039f"
             ],
             [
              0.2222222222222222,
              "#7201a8"
             ],
             [
              0.3333333333333333,
              "#9c179e"
             ],
             [
              0.4444444444444444,
              "#bd3786"
             ],
             [
              0.5555555555555556,
              "#d8576b"
             ],
             [
              0.6666666666666666,
              "#ed7953"
             ],
             [
              0.7777777777777778,
              "#fb9f3a"
             ],
             [
              0.8888888888888888,
              "#fdca26"
             ],
             [
              1,
              "#f0f921"
             ]
            ],
            "type": "histogram2dcontour"
           }
          ],
          "mesh3d": [
           {
            "colorbar": {
             "outlinewidth": 0,
             "ticks": ""
            },
            "type": "mesh3d"
           }
          ],
          "parcoords": [
           {
            "line": {
             "colorbar": {
              "outlinewidth": 0,
              "ticks": ""
             }
            },
            "type": "parcoords"
           }
          ],
          "pie": [
           {
            "automargin": true,
            "type": "pie"
           }
          ],
          "scatter": [
           {
            "fillpattern": {
             "fillmode": "overlay",
             "size": 10,
             "solidity": 0.2
            },
            "type": "scatter"
           }
          ],
          "scatter3d": [
           {
            "line": {
             "colorbar": {
              "outlinewidth": 0,
              "ticks": ""
             }
            },
            "marker": {
             "colorbar": {
              "outlinewidth": 0,
              "ticks": ""
             }
            },
            "type": "scatter3d"
           }
          ],
          "scattercarpet": [
           {
            "marker": {
             "colorbar": {
              "outlinewidth": 0,
              "ticks": ""
             }
            },
            "type": "scattercarpet"
           }
          ],
          "scattergeo": [
           {
            "marker": {
             "colorbar": {
              "outlinewidth": 0,
              "ticks": ""
             }
            },
            "type": "scattergeo"
           }
          ],
          "scattergl": [
           {
            "marker": {
             "colorbar": {
              "outlinewidth": 0,
              "ticks": ""
             }
            },
            "type": "scattergl"
           }
          ],
          "scattermapbox": [
           {
            "marker": {
             "colorbar": {
              "outlinewidth": 0,
              "ticks": ""
             }
            },
            "type": "scattermapbox"
           }
          ],
          "scatterpolar": [
           {
            "marker": {
             "colorbar": {
              "outlinewidth": 0,
              "ticks": ""
             }
            },
            "type": "scatterpolar"
           }
          ],
          "scatterpolargl": [
           {
            "marker": {
             "colorbar": {
              "outlinewidth": 0,
              "ticks": ""
             }
            },
            "type": "scatterpolargl"
           }
          ],
          "scatterternary": [
           {
            "marker": {
             "colorbar": {
              "outlinewidth": 0,
              "ticks": ""
             }
            },
            "type": "scatterternary"
           }
          ],
          "surface": [
           {
            "colorbar": {
             "outlinewidth": 0,
             "ticks": ""
            },
            "colorscale": [
             [
              0,
              "#0d0887"
             ],
             [
              0.1111111111111111,
              "#46039f"
             ],
             [
              0.2222222222222222,
              "#7201a8"
             ],
             [
              0.3333333333333333,
              "#9c179e"
             ],
             [
              0.4444444444444444,
              "#bd3786"
             ],
             [
              0.5555555555555556,
              "#d8576b"
             ],
             [
              0.6666666666666666,
              "#ed7953"
             ],
             [
              0.7777777777777778,
              "#fb9f3a"
             ],
             [
              0.8888888888888888,
              "#fdca26"
             ],
             [
              1,
              "#f0f921"
             ]
            ],
            "type": "surface"
           }
          ],
          "table": [
           {
            "cells": {
             "fill": {
              "color": "#EBF0F8"
             },
             "line": {
              "color": "white"
             }
            },
            "header": {
             "fill": {
              "color": "#C8D4E3"
             },
             "line": {
              "color": "white"
             }
            },
            "type": "table"
           }
          ]
         },
         "layout": {
          "annotationdefaults": {
           "arrowcolor": "#2a3f5f",
           "arrowhead": 0,
           "arrowwidth": 1
          },
          "autotypenumbers": "strict",
          "coloraxis": {
           "colorbar": {
            "outlinewidth": 0,
            "ticks": ""
           }
          },
          "colorscale": {
           "diverging": [
            [
             0,
             "#8e0152"
            ],
            [
             0.1,
             "#c51b7d"
            ],
            [
             0.2,
             "#de77ae"
            ],
            [
             0.3,
             "#f1b6da"
            ],
            [
             0.4,
             "#fde0ef"
            ],
            [
             0.5,
             "#f7f7f7"
            ],
            [
             0.6,
             "#e6f5d0"
            ],
            [
             0.7,
             "#b8e186"
            ],
            [
             0.8,
             "#7fbc41"
            ],
            [
             0.9,
             "#4d9221"
            ],
            [
             1,
             "#276419"
            ]
           ],
           "sequential": [
            [
             0,
             "#0d0887"
            ],
            [
             0.1111111111111111,
             "#46039f"
            ],
            [
             0.2222222222222222,
             "#7201a8"
            ],
            [
             0.3333333333333333,
             "#9c179e"
            ],
            [
             0.4444444444444444,
             "#bd3786"
            ],
            [
             0.5555555555555556,
             "#d8576b"
            ],
            [
             0.6666666666666666,
             "#ed7953"
            ],
            [
             0.7777777777777778,
             "#fb9f3a"
            ],
            [
             0.8888888888888888,
             "#fdca26"
            ],
            [
             1,
             "#f0f921"
            ]
           ],
           "sequentialminus": [
            [
             0,
             "#0d0887"
            ],
            [
             0.1111111111111111,
             "#46039f"
            ],
            [
             0.2222222222222222,
             "#7201a8"
            ],
            [
             0.3333333333333333,
             "#9c179e"
            ],
            [
             0.4444444444444444,
             "#bd3786"
            ],
            [
             0.5555555555555556,
             "#d8576b"
            ],
            [
             0.6666666666666666,
             "#ed7953"
            ],
            [
             0.7777777777777778,
             "#fb9f3a"
            ],
            [
             0.8888888888888888,
             "#fdca26"
            ],
            [
             1,
             "#f0f921"
            ]
           ]
          },
          "colorway": [
           "#636efa",
           "#EF553B",
           "#00cc96",
           "#ab63fa",
           "#FFA15A",
           "#19d3f3",
           "#FF6692",
           "#B6E880",
           "#FF97FF",
           "#FECB52"
          ],
          "font": {
           "color": "#2a3f5f"
          },
          "geo": {
           "bgcolor": "white",
           "lakecolor": "white",
           "landcolor": "#E5ECF6",
           "showlakes": true,
           "showland": true,
           "subunitcolor": "white"
          },
          "hoverlabel": {
           "align": "left"
          },
          "hovermode": "closest",
          "mapbox": {
           "style": "light"
          },
          "paper_bgcolor": "white",
          "plot_bgcolor": "#E5ECF6",
          "polar": {
           "angularaxis": {
            "gridcolor": "white",
            "linecolor": "white",
            "ticks": ""
           },
           "bgcolor": "#E5ECF6",
           "radialaxis": {
            "gridcolor": "white",
            "linecolor": "white",
            "ticks": ""
           }
          },
          "scene": {
           "xaxis": {
            "backgroundcolor": "#E5ECF6",
            "gridcolor": "white",
            "gridwidth": 2,
            "linecolor": "white",
            "showbackground": true,
            "ticks": "",
            "zerolinecolor": "white"
           },
           "yaxis": {
            "backgroundcolor": "#E5ECF6",
            "gridcolor": "white",
            "gridwidth": 2,
            "linecolor": "white",
            "showbackground": true,
            "ticks": "",
            "zerolinecolor": "white"
           },
           "zaxis": {
            "backgroundcolor": "#E5ECF6",
            "gridcolor": "white",
            "gridwidth": 2,
            "linecolor": "white",
            "showbackground": true,
            "ticks": "",
            "zerolinecolor": "white"
           }
          },
          "shapedefaults": {
           "line": {
            "color": "#2a3f5f"
           }
          },
          "ternary": {
           "aaxis": {
            "gridcolor": "white",
            "linecolor": "white",
            "ticks": ""
           },
           "baxis": {
            "gridcolor": "white",
            "linecolor": "white",
            "ticks": ""
           },
           "bgcolor": "#E5ECF6",
           "caxis": {
            "gridcolor": "white",
            "linecolor": "white",
            "ticks": ""
           }
          },
          "title": {
           "x": 0.05
          },
          "xaxis": {
           "automargin": true,
           "gridcolor": "white",
           "linecolor": "white",
           "ticks": "",
           "title": {
            "standoff": 15
           },
           "zerolinecolor": "white",
           "zerolinewidth": 2
          },
          "yaxis": {
           "automargin": true,
           "gridcolor": "white",
           "linecolor": "white",
           "ticks": "",
           "title": {
            "standoff": 15
           },
           "zerolinecolor": "white",
           "zerolinewidth": 2
          }
         }
        },
        "xaxis": {
         "anchor": "y",
         "domain": [
          0,
          1
         ],
         "title": {
          "text": "Date"
         }
        },
        "yaxis": {
         "anchor": "x",
         "domain": [
          0,
          1
         ],
         "title": {
          "text": "Weight (lbs)"
         }
        }
       }
      },
      "text/html": [
       "<div>                            <div id=\"cf3f150f-97b3-445f-8089-3eace3719bb8\" class=\"plotly-graph-div\" style=\"height:525px; width:100%;\"></div>            <script type=\"text/javascript\">                require([\"plotly\"], function(Plotly) {                    window.PLOTLYENV=window.PLOTLYENV || {};                                    if (document.getElementById(\"cf3f150f-97b3-445f-8089-3eace3719bb8\")) {                    Plotly.newPlot(                        \"cf3f150f-97b3-445f-8089-3eace3719bb8\",                        [{\"hovertemplate\":\"Date=%{x}<br>Weight (lbs)=%{y}<extra></extra>\",\"legendgroup\":\"\",\"line\":{\"color\":\"#636efa\",\"dash\":\"solid\"},\"marker\":{\"symbol\":\"circle\"},\"mode\":\"lines\",\"name\":\"\",\"orientation\":\"v\",\"showlegend\":false,\"x\":[\"2020-01-01T00:00:00\",\"2020-02-01T00:00:00\",\"2020-03-01T00:00:00\",\"2020-04-01T00:00:00\",\"2020-05-01T00:00:00\",\"2020-06-01T00:00:00\",\"2020-07-01T00:00:00\",\"2020-08-01T00:00:00\",\"2020-09-01T00:00:00\",\"2020-10-01T00:00:00\",\"2020-11-01T00:00:00\",\"2021-01-01T00:00:00\",\"2021-02-01T00:00:00\",\"2021-03-01T00:00:00\",\"2021-04-01T00:00:00\",\"2021-05-01T00:00:00\",\"2021-06-01T00:00:00\",\"2021-07-01T00:00:00\",\"2021-08-01T00:00:00\",\"2021-09-01T00:00:00\",\"2021-10-01T00:00:00\",\"2021-11-01T00:00:00\",\"2021-12-01T00:00:00\",\"2022-01-01T00:00:00\",\"2022-02-01T00:00:00\",\"2022-03-01T00:00:00\",\"2022-04-01T00:00:00\",\"2022-05-01T00:00:00\",\"2022-06-01T00:00:00\",\"2022-07-01T00:00:00\",\"2022-08-01T00:00:00\",\"2022-10-01T00:00:00\",\"2022-11-01T00:00:00\",\"2022-12-01T00:00:00\",\"2023-01-01T00:00:00\",\"2023-02-01T00:00:00\",\"2023-03-01T00:00:00\",\"2023-04-01T00:00:00\",\"2023-05-01T00:00:00\",\"2023-06-01T00:00:00\",\"2023-07-01T00:00:00\",\"2023-08-01T00:00:00\",\"2023-09-01T00:00:00\",\"2023-10-01T00:00:00\",\"2023-12-01T00:00:00\"],\"xaxis\":\"x\",\"y\":[39.5726,5.5106,15.2558,0.5503,0.5644,26.405,23.303800000000003,223.8742,0.2099,23.0624,24.6915,169.49030000000002,5.2469,2.5697,35.1017,8.1964,20.7363,31.6651,12.2375,32.7358,77.0782,15.5693,2.5,0.041,64.41669999999999,116.1083,106.0676,150.57649999999998,42.508500000000005,303.2685,135.9233,77.8132,30.3401,24.7621,260.5375,259.5967,233.8198,49.5001,232.4737,57.981,44.7401,60.4722,23.5936,61.4422,1.3228],\"yaxis\":\"y\",\"type\":\"scatter\"}],                        {\"template\":{\"data\":{\"histogram2dcontour\":[{\"type\":\"histogram2dcontour\",\"colorbar\":{\"outlinewidth\":0,\"ticks\":\"\"},\"colorscale\":[[0.0,\"#0d0887\"],[0.1111111111111111,\"#46039f\"],[0.2222222222222222,\"#7201a8\"],[0.3333333333333333,\"#9c179e\"],[0.4444444444444444,\"#bd3786\"],[0.5555555555555556,\"#d8576b\"],[0.6666666666666666,\"#ed7953\"],[0.7777777777777778,\"#fb9f3a\"],[0.8888888888888888,\"#fdca26\"],[1.0,\"#f0f921\"]]}],\"choropleth\":[{\"type\":\"choropleth\",\"colorbar\":{\"outlinewidth\":0,\"ticks\":\"\"}}],\"histogram2d\":[{\"type\":\"histogram2d\",\"colorbar\":{\"outlinewidth\":0,\"ticks\":\"\"},\"colorscale\":[[0.0,\"#0d0887\"],[0.1111111111111111,\"#46039f\"],[0.2222222222222222,\"#7201a8\"],[0.3333333333333333,\"#9c179e\"],[0.4444444444444444,\"#bd3786\"],[0.5555555555555556,\"#d8576b\"],[0.6666666666666666,\"#ed7953\"],[0.7777777777777778,\"#fb9f3a\"],[0.8888888888888888,\"#fdca26\"],[1.0,\"#f0f921\"]]}],\"heatmap\":[{\"type\":\"heatmap\",\"colorbar\":{\"outlinewidth\":0,\"ticks\":\"\"},\"colorscale\":[[0.0,\"#0d0887\"],[0.1111111111111111,\"#46039f\"],[0.2222222222222222,\"#7201a8\"],[0.3333333333333333,\"#9c179e\"],[0.4444444444444444,\"#bd3786\"],[0.5555555555555556,\"#d8576b\"],[0.6666666666666666,\"#ed7953\"],[0.7777777777777778,\"#fb9f3a\"],[0.8888888888888888,\"#fdca26\"],[1.0,\"#f0f921\"]]}],\"heatmapgl\":[{\"type\":\"heatmapgl\",\"colorbar\":{\"outlinewidth\":0,\"ticks\":\"\"},\"colorscale\":[[0.0,\"#0d0887\"],[0.1111111111111111,\"#46039f\"],[0.2222222222222222,\"#7201a8\"],[0.3333333333333333,\"#9c179e\"],[0.4444444444444444,\"#bd3786\"],[0.5555555555555556,\"#d8576b\"],[0.6666666666666666,\"#ed7953\"],[0.7777777777777778,\"#fb9f3a\"],[0.8888888888888888,\"#fdca26\"],[1.0,\"#f0f921\"]]}],\"contourcarpet\":[{\"type\":\"contourcarpet\",\"colorbar\":{\"outlinewidth\":0,\"ticks\":\"\"}}],\"contour\":[{\"type\":\"contour\",\"colorbar\":{\"outlinewidth\":0,\"ticks\":\"\"},\"colorscale\":[[0.0,\"#0d0887\"],[0.1111111111111111,\"#46039f\"],[0.2222222222222222,\"#7201a8\"],[0.3333333333333333,\"#9c179e\"],[0.4444444444444444,\"#bd3786\"],[0.5555555555555556,\"#d8576b\"],[0.6666666666666666,\"#ed7953\"],[0.7777777777777778,\"#fb9f3a\"],[0.8888888888888888,\"#fdca26\"],[1.0,\"#f0f921\"]]}],\"surface\":[{\"type\":\"surface\",\"colorbar\":{\"outlinewidth\":0,\"ticks\":\"\"},\"colorscale\":[[0.0,\"#0d0887\"],[0.1111111111111111,\"#46039f\"],[0.2222222222222222,\"#7201a8\"],[0.3333333333333333,\"#9c179e\"],[0.4444444444444444,\"#bd3786\"],[0.5555555555555556,\"#d8576b\"],[0.6666666666666666,\"#ed7953\"],[0.7777777777777778,\"#fb9f3a\"],[0.8888888888888888,\"#fdca26\"],[1.0,\"#f0f921\"]]}],\"mesh3d\":[{\"type\":\"mesh3d\",\"colorbar\":{\"outlinewidth\":0,\"ticks\":\"\"}}],\"scatter\":[{\"fillpattern\":{\"fillmode\":\"overlay\",\"size\":10,\"solidity\":0.2},\"type\":\"scatter\"}],\"parcoords\":[{\"type\":\"parcoords\",\"line\":{\"colorbar\":{\"outlinewidth\":0,\"ticks\":\"\"}}}],\"scatterpolargl\":[{\"type\":\"scatterpolargl\",\"marker\":{\"colorbar\":{\"outlinewidth\":0,\"ticks\":\"\"}}}],\"bar\":[{\"error_x\":{\"color\":\"#2a3f5f\"},\"error_y\":{\"color\":\"#2a3f5f\"},\"marker\":{\"line\":{\"color\":\"#E5ECF6\",\"width\":0.5},\"pattern\":{\"fillmode\":\"overlay\",\"size\":10,\"solidity\":0.2}},\"type\":\"bar\"}],\"scattergeo\":[{\"type\":\"scattergeo\",\"marker\":{\"colorbar\":{\"outlinewidth\":0,\"ticks\":\"\"}}}],\"scatterpolar\":[{\"type\":\"scatterpolar\",\"marker\":{\"colorbar\":{\"outlinewidth\":0,\"ticks\":\"\"}}}],\"histogram\":[{\"marker\":{\"pattern\":{\"fillmode\":\"overlay\",\"size\":10,\"solidity\":0.2}},\"type\":\"histogram\"}],\"scattergl\":[{\"type\":\"scattergl\",\"marker\":{\"colorbar\":{\"outlinewidth\":0,\"ticks\":\"\"}}}],\"scatter3d\":[{\"type\":\"scatter3d\",\"line\":{\"colorbar\":{\"outlinewidth\":0,\"ticks\":\"\"}},\"marker\":{\"colorbar\":{\"outlinewidth\":0,\"ticks\":\"\"}}}],\"scattermapbox\":[{\"type\":\"scattermapbox\",\"marker\":{\"colorbar\":{\"outlinewidth\":0,\"ticks\":\"\"}}}],\"scatterternary\":[{\"type\":\"scatterternary\",\"marker\":{\"colorbar\":{\"outlinewidth\":0,\"ticks\":\"\"}}}],\"scattercarpet\":[{\"type\":\"scattercarpet\",\"marker\":{\"colorbar\":{\"outlinewidth\":0,\"ticks\":\"\"}}}],\"carpet\":[{\"aaxis\":{\"endlinecolor\":\"#2a3f5f\",\"gridcolor\":\"white\",\"linecolor\":\"white\",\"minorgridcolor\":\"white\",\"startlinecolor\":\"#2a3f5f\"},\"baxis\":{\"endlinecolor\":\"#2a3f5f\",\"gridcolor\":\"white\",\"linecolor\":\"white\",\"minorgridcolor\":\"white\",\"startlinecolor\":\"#2a3f5f\"},\"type\":\"carpet\"}],\"table\":[{\"cells\":{\"fill\":{\"color\":\"#EBF0F8\"},\"line\":{\"color\":\"white\"}},\"header\":{\"fill\":{\"color\":\"#C8D4E3\"},\"line\":{\"color\":\"white\"}},\"type\":\"table\"}],\"barpolar\":[{\"marker\":{\"line\":{\"color\":\"#E5ECF6\",\"width\":0.5},\"pattern\":{\"fillmode\":\"overlay\",\"size\":10,\"solidity\":0.2}},\"type\":\"barpolar\"}],\"pie\":[{\"automargin\":true,\"type\":\"pie\"}]},\"layout\":{\"autotypenumbers\":\"strict\",\"colorway\":[\"#636efa\",\"#EF553B\",\"#00cc96\",\"#ab63fa\",\"#FFA15A\",\"#19d3f3\",\"#FF6692\",\"#B6E880\",\"#FF97FF\",\"#FECB52\"],\"font\":{\"color\":\"#2a3f5f\"},\"hovermode\":\"closest\",\"hoverlabel\":{\"align\":\"left\"},\"paper_bgcolor\":\"white\",\"plot_bgcolor\":\"#E5ECF6\",\"polar\":{\"bgcolor\":\"#E5ECF6\",\"angularaxis\":{\"gridcolor\":\"white\",\"linecolor\":\"white\",\"ticks\":\"\"},\"radialaxis\":{\"gridcolor\":\"white\",\"linecolor\":\"white\",\"ticks\":\"\"}},\"ternary\":{\"bgcolor\":\"#E5ECF6\",\"aaxis\":{\"gridcolor\":\"white\",\"linecolor\":\"white\",\"ticks\":\"\"},\"baxis\":{\"gridcolor\":\"white\",\"linecolor\":\"white\",\"ticks\":\"\"},\"caxis\":{\"gridcolor\":\"white\",\"linecolor\":\"white\",\"ticks\":\"\"}},\"coloraxis\":{\"colorbar\":{\"outlinewidth\":0,\"ticks\":\"\"}},\"colorscale\":{\"sequential\":[[0.0,\"#0d0887\"],[0.1111111111111111,\"#46039f\"],[0.2222222222222222,\"#7201a8\"],[0.3333333333333333,\"#9c179e\"],[0.4444444444444444,\"#bd3786\"],[0.5555555555555556,\"#d8576b\"],[0.6666666666666666,\"#ed7953\"],[0.7777777777777778,\"#fb9f3a\"],[0.8888888888888888,\"#fdca26\"],[1.0,\"#f0f921\"]],\"sequentialminus\":[[0.0,\"#0d0887\"],[0.1111111111111111,\"#46039f\"],[0.2222222222222222,\"#7201a8\"],[0.3333333333333333,\"#9c179e\"],[0.4444444444444444,\"#bd3786\"],[0.5555555555555556,\"#d8576b\"],[0.6666666666666666,\"#ed7953\"],[0.7777777777777778,\"#fb9f3a\"],[0.8888888888888888,\"#fdca26\"],[1.0,\"#f0f921\"]],\"diverging\":[[0,\"#8e0152\"],[0.1,\"#c51b7d\"],[0.2,\"#de77ae\"],[0.3,\"#f1b6da\"],[0.4,\"#fde0ef\"],[0.5,\"#f7f7f7\"],[0.6,\"#e6f5d0\"],[0.7,\"#b8e186\"],[0.8,\"#7fbc41\"],[0.9,\"#4d9221\"],[1,\"#276419\"]]},\"xaxis\":{\"gridcolor\":\"white\",\"linecolor\":\"white\",\"ticks\":\"\",\"title\":{\"standoff\":15},\"zerolinecolor\":\"white\",\"automargin\":true,\"zerolinewidth\":2},\"yaxis\":{\"gridcolor\":\"white\",\"linecolor\":\"white\",\"ticks\":\"\",\"title\":{\"standoff\":15},\"zerolinecolor\":\"white\",\"automargin\":true,\"zerolinewidth\":2},\"scene\":{\"xaxis\":{\"backgroundcolor\":\"#E5ECF6\",\"gridcolor\":\"white\",\"linecolor\":\"white\",\"showbackground\":true,\"ticks\":\"\",\"zerolinecolor\":\"white\",\"gridwidth\":2},\"yaxis\":{\"backgroundcolor\":\"#E5ECF6\",\"gridcolor\":\"white\",\"linecolor\":\"white\",\"showbackground\":true,\"ticks\":\"\",\"zerolinecolor\":\"white\",\"gridwidth\":2},\"zaxis\":{\"backgroundcolor\":\"#E5ECF6\",\"gridcolor\":\"white\",\"linecolor\":\"white\",\"showbackground\":true,\"ticks\":\"\",\"zerolinecolor\":\"white\",\"gridwidth\":2}},\"shapedefaults\":{\"line\":{\"color\":\"#2a3f5f\"}},\"annotationdefaults\":{\"arrowcolor\":\"#2a3f5f\",\"arrowhead\":0,\"arrowwidth\":1},\"geo\":{\"bgcolor\":\"white\",\"landcolor\":\"#E5ECF6\",\"subunitcolor\":\"white\",\"showland\":true,\"showlakes\":true,\"lakecolor\":\"white\"},\"title\":{\"x\":0.05},\"mapbox\":{\"style\":\"light\"}}},\"xaxis\":{\"anchor\":\"y\",\"domain\":[0.0,1.0],\"title\":{\"text\":\"Date\"}},\"yaxis\":{\"anchor\":\"x\",\"domain\":[0.0,1.0],\"title\":{\"text\":\"Weight (lbs)\"}},\"legend\":{\"tracegroupgap\":0},\"margin\":{\"t\":60}},                        {\"responsive\": true}                    ).then(function(){\n",
       "                            \n",
       "var gd = document.getElementById('cf3f150f-97b3-445f-8089-3eace3719bb8');\n",
       "var x = new MutationObserver(function (mutations, observer) {{\n",
       "        var display = window.getComputedStyle(gd).display;\n",
       "        if (!display || display === 'none') {{\n",
       "            console.log([gd, 'removed!']);\n",
       "            Plotly.purge(gd);\n",
       "            observer.disconnect();\n",
       "        }}\n",
       "}});\n",
       "\n",
       "// Listen for the removal of the full notebook cells\n",
       "var notebookContainer = gd.closest('#notebook-container');\n",
       "if (notebookContainer) {{\n",
       "    x.observe(notebookContainer, {childList: true});\n",
       "}}\n",
       "\n",
       "// Listen for the clearing of the current output cell\n",
       "var outputEl = gd.closest('.output');\n",
       "if (outputEl) {{\n",
       "    x.observe(outputEl, {childList: true});\n",
       "}}\n",
       "\n",
       "                        })                };                });            </script>        </div>"
      ]
     },
     "metadata": {},
     "output_type": "display_data"
    }
   ],
   "source": [
    "px.line(fenD1, x=fenD1.index.values, y='Sum Qty (lbs)',\n",
    "       labels = {\n",
    "           'x' : 'Date',\n",
    "           'Sum Qty (lbs)' : 'Weight (lbs)'\n",
    "       })"
   ]
  },
  {
   "cell_type": "code",
   "execution_count": 165,
   "id": "f7c85cbf",
   "metadata": {},
   "outputs": [
    {
     "ename": "TypeError",
     "evalue": "SimpleExpSmoothing.__init__() got an unexpected keyword argument 'model'",
     "output_type": "error",
     "traceback": [
      "\u001b[0;31m---------------------------------------------------------------------------\u001b[0m",
      "\u001b[0;31mTypeError\u001b[0m                                 Traceback (most recent call last)",
      "Cell \u001b[0;32mIn[165], line 1\u001b[0m\n\u001b[0;32m----> 1\u001b[0m model \u001b[38;5;241m=\u001b[39m \u001b[43mSimpleExpSmoothing\u001b[49m\u001b[43m(\u001b[49m\u001b[43mnp\u001b[49m\u001b[38;5;241;43m.\u001b[39;49m\u001b[43masarray\u001b[49m\u001b[43m(\u001b[49m\u001b[43mfenD1\u001b[49m\u001b[43m[\u001b[49m\u001b[38;5;124;43m'\u001b[39;49m\u001b[38;5;124;43mSum Qty (lbs)\u001b[39;49m\u001b[38;5;124;43m'\u001b[39;49m\u001b[43m]\u001b[49m\u001b[43m)\u001b[49m\u001b[43m,\u001b[49m\u001b[43m \u001b[49m\u001b[43mmodel\u001b[49m\u001b[38;5;241;43m=\u001b[39;49m\u001b[38;5;124;43m'\u001b[39;49m\u001b[38;5;124;43madd\u001b[39;49m\u001b[38;5;124;43m'\u001b[39;49m\u001b[43m)\u001b[49m\u001b[38;5;241m.\u001b[39mfit()\n\u001b[1;32m      2\u001b[0m model\u001b[38;5;241m.\u001b[39m_index \u001b[38;5;241m=\u001b[39m pd\u001b[38;5;241m.\u001b[39mto_datetime(fenD1\u001b[38;5;241m.\u001b[39mindex)\n",
      "\u001b[0;31mTypeError\u001b[0m: SimpleExpSmoothing.__init__() got an unexpected keyword argument 'model'"
     ]
    }
   ],
   "source": [
    "model = SimpleExpSmoothing(np.asarray(fenD1['Sum Qty (lbs)']), model='add').fit()\n",
    "model._index = pd.to_datetime(fenD1.index)"
   ]
  },
  {
   "cell_type": "code",
   "execution_count": 163,
   "id": "542f410f",
   "metadata": {},
   "outputs": [
    {
     "data": {
      "text/plain": [
       "<statsmodels.tsa.holtwinters.results.HoltWintersResultsWrapper at 0x7fcbe509cfa0>"
      ]
     },
     "execution_count": 163,
     "metadata": {},
     "output_type": "execute_result"
    }
   ],
   "source": [
    "model"
   ]
  },
  {
   "cell_type": "code",
   "execution_count": null,
   "id": "89c27ae0",
   "metadata": {},
   "outputs": [],
   "source": []
  },
  {
   "cell_type": "code",
   "execution_count": null,
   "id": "62560414",
   "metadata": {},
   "outputs": [],
   "source": []
  },
  {
   "cell_type": "code",
   "execution_count": null,
   "id": "34132637",
   "metadata": {},
   "outputs": [],
   "source": []
  },
  {
   "cell_type": "code",
   "execution_count": null,
   "id": "abb382a2",
   "metadata": {},
   "outputs": [],
   "source": []
  },
  {
   "cell_type": "code",
   "execution_count": null,
   "id": "4638daff",
   "metadata": {},
   "outputs": [],
   "source": []
  },
  {
   "cell_type": "code",
   "execution_count": null,
   "id": "5749f93c",
   "metadata": {},
   "outputs": [],
   "source": []
  },
  {
   "cell_type": "code",
   "execution_count": null,
   "id": "4b6397ff",
   "metadata": {},
   "outputs": [],
   "source": []
  },
  {
   "cell_type": "code",
   "execution_count": null,
   "id": "38ef6377",
   "metadata": {},
   "outputs": [],
   "source": []
  },
  {
   "cell_type": "code",
   "execution_count": 25,
   "id": "034ddd42",
   "metadata": {},
   "outputs": [],
   "source": [
    "data['datetime'] = pd.to_datetime([f'{y}-{m}-01' for y, m in zip(data['FY'], data['Month (abbv)'])])"
   ]
  },
  {
   "cell_type": "code",
   "execution_count": 26,
   "id": "a5875651",
   "metadata": {},
   "outputs": [
    {
     "data": {
      "text/html": [
       "<div>\n",
       "<style scoped>\n",
       "    .dataframe tbody tr th:only-of-type {\n",
       "        vertical-align: middle;\n",
       "    }\n",
       "\n",
       "    .dataframe tbody tr th {\n",
       "        vertical-align: top;\n",
       "    }\n",
       "\n",
       "    .dataframe thead th {\n",
       "        text-align: right;\n",
       "    }\n",
       "</style>\n",
       "<table border=\"1\" class=\"dataframe\">\n",
       "  <thead>\n",
       "    <tr style=\"text-align: right;\">\n",
       "      <th></th>\n",
       "      <th>FY</th>\n",
       "      <th>Month (abbv)</th>\n",
       "      <th>Component</th>\n",
       "      <th>Region</th>\n",
       "      <th>Land Filter</th>\n",
       "      <th>Area of Responsibility</th>\n",
       "      <th>Drug Type</th>\n",
       "      <th>Count of Event</th>\n",
       "      <th>Sum Qty (lbs)</th>\n",
       "      <th>datetime</th>\n",
       "    </tr>\n",
       "  </thead>\n",
       "  <tbody>\n",
       "    <tr>\n",
       "      <th>0</th>\n",
       "      <td>2020</td>\n",
       "      <td>APR</td>\n",
       "      <td>Office of Field Operations</td>\n",
       "      <td>Coastal/Interior</td>\n",
       "      <td>Other</td>\n",
       "      <td>ATLANTA FIELD OFFICE</td>\n",
       "      <td>Other Drugs**</td>\n",
       "      <td>2</td>\n",
       "      <td>0.330693</td>\n",
       "      <td>2020-04-01</td>\n",
       "    </tr>\n",
       "    <tr>\n",
       "      <th>1</th>\n",
       "      <td>2020</td>\n",
       "      <td>APR</td>\n",
       "      <td>Office of Field Operations</td>\n",
       "      <td>Coastal/Interior</td>\n",
       "      <td>Other</td>\n",
       "      <td>BALTIMORE FIELD OFFICE</td>\n",
       "      <td>Ketamine</td>\n",
       "      <td>1</td>\n",
       "      <td>0.017417</td>\n",
       "      <td>2020-04-01</td>\n",
       "    </tr>\n",
       "    <tr>\n",
       "      <th>2</th>\n",
       "      <td>2020</td>\n",
       "      <td>APR</td>\n",
       "      <td>Office of Field Operations</td>\n",
       "      <td>Coastal/Interior</td>\n",
       "      <td>Other</td>\n",
       "      <td>BALTIMORE FIELD OFFICE</td>\n",
       "      <td>Khat (Catha Edulis)</td>\n",
       "      <td>2</td>\n",
       "      <td>1137.497087</td>\n",
       "      <td>2020-04-01</td>\n",
       "    </tr>\n",
       "    <tr>\n",
       "      <th>3</th>\n",
       "      <td>2020</td>\n",
       "      <td>APR</td>\n",
       "      <td>Office of Field Operations</td>\n",
       "      <td>Coastal/Interior</td>\n",
       "      <td>Other</td>\n",
       "      <td>BALTIMORE FIELD OFFICE</td>\n",
       "      <td>Other Drugs**</td>\n",
       "      <td>13</td>\n",
       "      <td>5.258907</td>\n",
       "      <td>2020-04-01</td>\n",
       "    </tr>\n",
       "    <tr>\n",
       "      <th>4</th>\n",
       "      <td>2020</td>\n",
       "      <td>APR</td>\n",
       "      <td>Office of Field Operations</td>\n",
       "      <td>Coastal/Interior</td>\n",
       "      <td>Other</td>\n",
       "      <td>CHICAGO FIELD OFFICE</td>\n",
       "      <td>Cocaine</td>\n",
       "      <td>7</td>\n",
       "      <td>125.697881</td>\n",
       "      <td>2020-04-01</td>\n",
       "    </tr>\n",
       "    <tr>\n",
       "      <th>...</th>\n",
       "      <td>...</td>\n",
       "      <td>...</td>\n",
       "      <td>...</td>\n",
       "      <td>...</td>\n",
       "      <td>...</td>\n",
       "      <td>...</td>\n",
       "      <td>...</td>\n",
       "      <td>...</td>\n",
       "      <td>...</td>\n",
       "      <td>...</td>\n",
       "    </tr>\n",
       "    <tr>\n",
       "      <th>9919</th>\n",
       "      <td>2023</td>\n",
       "      <td>SEP</td>\n",
       "      <td>U.S. Border Patrol</td>\n",
       "      <td>Southwest Border</td>\n",
       "      <td>Land Only</td>\n",
       "      <td>TUCSON SECTOR</td>\n",
       "      <td>Other Drugs**</td>\n",
       "      <td>4</td>\n",
       "      <td>0.222700</td>\n",
       "      <td>2023-09-01</td>\n",
       "    </tr>\n",
       "    <tr>\n",
       "      <th>9920</th>\n",
       "      <td>2023</td>\n",
       "      <td>SEP</td>\n",
       "      <td>U.S. Border Patrol</td>\n",
       "      <td>Southwest Border</td>\n",
       "      <td>Land Only</td>\n",
       "      <td>YUMA SECTOR</td>\n",
       "      <td>Fentanyl</td>\n",
       "      <td>2</td>\n",
       "      <td>4.952400</td>\n",
       "      <td>2023-09-01</td>\n",
       "    </tr>\n",
       "    <tr>\n",
       "      <th>9921</th>\n",
       "      <td>2023</td>\n",
       "      <td>SEP</td>\n",
       "      <td>U.S. Border Patrol</td>\n",
       "      <td>Southwest Border</td>\n",
       "      <td>Land Only</td>\n",
       "      <td>YUMA SECTOR</td>\n",
       "      <td>Marijuana</td>\n",
       "      <td>11</td>\n",
       "      <td>0.412100</td>\n",
       "      <td>2023-09-01</td>\n",
       "    </tr>\n",
       "    <tr>\n",
       "      <th>9922</th>\n",
       "      <td>2023</td>\n",
       "      <td>SEP</td>\n",
       "      <td>U.S. Border Patrol</td>\n",
       "      <td>Southwest Border</td>\n",
       "      <td>Land Only</td>\n",
       "      <td>YUMA SECTOR</td>\n",
       "      <td>Methamphetamine</td>\n",
       "      <td>2</td>\n",
       "      <td>84.452600</td>\n",
       "      <td>2023-09-01</td>\n",
       "    </tr>\n",
       "    <tr>\n",
       "      <th>9923</th>\n",
       "      <td>2023</td>\n",
       "      <td>SEP</td>\n",
       "      <td>U.S. Border Patrol</td>\n",
       "      <td>Southwest Border</td>\n",
       "      <td>Land Only</td>\n",
       "      <td>YUMA SECTOR</td>\n",
       "      <td>Other Drugs**</td>\n",
       "      <td>2</td>\n",
       "      <td>1.748300</td>\n",
       "      <td>2023-09-01</td>\n",
       "    </tr>\n",
       "  </tbody>\n",
       "</table>\n",
       "<p>9924 rows × 10 columns</p>\n",
       "</div>"
      ],
      "text/plain": [
       "        FY Month (abbv)                   Component            Region  \\\n",
       "0     2020          APR  Office of Field Operations  Coastal/Interior   \n",
       "1     2020          APR  Office of Field Operations  Coastal/Interior   \n",
       "2     2020          APR  Office of Field Operations  Coastal/Interior   \n",
       "3     2020          APR  Office of Field Operations  Coastal/Interior   \n",
       "4     2020          APR  Office of Field Operations  Coastal/Interior   \n",
       "...    ...          ...                         ...               ...   \n",
       "9919  2023          SEP          U.S. Border Patrol  Southwest Border   \n",
       "9920  2023          SEP          U.S. Border Patrol  Southwest Border   \n",
       "9921  2023          SEP          U.S. Border Patrol  Southwest Border   \n",
       "9922  2023          SEP          U.S. Border Patrol  Southwest Border   \n",
       "9923  2023          SEP          U.S. Border Patrol  Southwest Border   \n",
       "\n",
       "     Land Filter  Area of Responsibility            Drug Type  Count of Event  \\\n",
       "0          Other    ATLANTA FIELD OFFICE        Other Drugs**               2   \n",
       "1          Other  BALTIMORE FIELD OFFICE             Ketamine               1   \n",
       "2          Other  BALTIMORE FIELD OFFICE  Khat (Catha Edulis)               2   \n",
       "3          Other  BALTIMORE FIELD OFFICE        Other Drugs**              13   \n",
       "4          Other    CHICAGO FIELD OFFICE              Cocaine               7   \n",
       "...          ...                     ...                  ...             ...   \n",
       "9919   Land Only           TUCSON SECTOR        Other Drugs**               4   \n",
       "9920   Land Only             YUMA SECTOR             Fentanyl               2   \n",
       "9921   Land Only             YUMA SECTOR            Marijuana              11   \n",
       "9922   Land Only             YUMA SECTOR      Methamphetamine               2   \n",
       "9923   Land Only             YUMA SECTOR        Other Drugs**               2   \n",
       "\n",
       "      Sum Qty (lbs)   datetime  \n",
       "0          0.330693 2020-04-01  \n",
       "1          0.017417 2020-04-01  \n",
       "2       1137.497087 2020-04-01  \n",
       "3          5.258907 2020-04-01  \n",
       "4        125.697881 2020-04-01  \n",
       "...             ...        ...  \n",
       "9919       0.222700 2023-09-01  \n",
       "9920       4.952400 2023-09-01  \n",
       "9921       0.412100 2023-09-01  \n",
       "9922      84.452600 2023-09-01  \n",
       "9923       1.748300 2023-09-01  \n",
       "\n",
       "[9924 rows x 10 columns]"
      ]
     },
     "execution_count": 26,
     "metadata": {},
     "output_type": "execute_result"
    }
   ],
   "source": [
    "data"
   ]
  },
  {
   "cell_type": "code",
   "execution_count": null,
   "id": "4abe9aa9",
   "metadata": {},
   "outputs": [],
   "source": []
  },
  {
   "cell_type": "code",
   "execution_count": null,
   "id": "a8bffa33",
   "metadata": {},
   "outputs": [],
   "source": []
  }
 ],
 "metadata": {
  "kernelspec": {
   "display_name": "Python 3 (ipykernel)",
   "language": "python",
   "name": "python3"
  },
  "language_info": {
   "codemirror_mode": {
    "name": "ipython",
    "version": 3
   },
   "file_extension": ".py",
   "mimetype": "text/x-python",
   "name": "python",
   "nbconvert_exporter": "python",
   "pygments_lexer": "ipython3",
   "version": "3.10.9"
  }
 },
 "nbformat": 4,
 "nbformat_minor": 5
}
